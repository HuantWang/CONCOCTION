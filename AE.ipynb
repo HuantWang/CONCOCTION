{
 "cells": [
  {
   "cell_type": "markdown",
   "metadata": {},
   "source": [
    "# Artifacts Evaluation Instructions: #506   Combining Static and Dynamic Code Information for Software Vulnerability Prediction\n",
    "\n",
    "## Preliminaries\n",
    "\n",
    "This interactive Jupyter notebook provides a small-scale demo to showcase the program representation, vulnerability detection, and prediction of vulnerability detection discussed in the paper.\n",
    "\n",
    "The main results of our CCS 2023 paper involve comparing the performance of our vulnerability detection with prior machine learning-based approaches. The evaluation presented in our paper was conducted on a much larger dataset and for a longer duration. The intention of this notebook is to provide minimal working examples that can be evaluated within a reasonable time frame.\n",
    "\n",
    "## Instructions for Experimental Workflow:\n",
    "\n",
    "Before you start, please first make a copy of the notebook by going to the landing page. Then select the checkbox next to the notebook titled *main.ipynb*, then click \"**Duplicate**\".\n",
    "\n",
    "Click the name of the newly created Jupyter Notebook, e.g. **AE-Copy1.ipynb**. Next, select \"**Kernel**\" > \"**Restart & Clear Output**\". Then, repeatedly press the play button (the tooltip is \"run cell, select below\") to step through each cell of the notebook.\n",
    "\n",
    "Alternatively, select each cell in turn and use \"**Cell**\"> \"**Run Cell**\" from the menu to run specific cells. Note that some cells depend on previous cells being executed. If any errors occur, ensure all previous cells have been executed.\n",
    "\n",
    "## Important Notes\n",
    "\n",
    "**Some cells can take more than half an hour to complete; please wait for the results until step to the next cell.** \n",
    "\n",
    "High load can lead to a long wait for results. This may occur if multiple reviewers are simultaneously trying to generate results. \n",
    "\n",
    "The experiments are customisable as the code provided in the Jupyter Notebook can be edited on the spot. Simply type your changes into the code blocks and re-run using **Cell > Run Cells** from the menu.\n",
    "\n",
    "## Links to The Paper\n",
    "\n",
    "For each step, we note the section number of the submitted version where the relevant technique is described or data is presented.\n",
    "\n",
    "The main results are presented in Figures 9-12 of the submitted paper."
   ]
  },
  {
   "cell_type": "markdown",
   "metadata": {},
   "source": [
    "# Demo 1: The Concoction Model Architecture\n",
    "\n",
    "This demo corresponds to the architecture given in Figure 3. Note that This is a small-scale demo for vulnerability detection. The full-scale evaluation used in the paper takes over 24 hours to run.\n",
    "\n",
    "## Step 1. Program representation\n",
    "\n",
    "The program representation component maps the input source code and dynamic symbolic execution traces of the target function into a numerical embedding vector.\n",
    "\n",
    "#### *Static representation model*:"
   ]
  },
  {
   "cell_type": "code",
   "execution_count": 1,
   "metadata": {},
   "outputs": [
    {
     "name": "stdout",
     "output_type": "stream",
     "text": [
      "/homee\n"
     ]
    }
   ],
   "source": [
    "import os\n",
    "ROOTPATH=os.getcwd()\n",
    "print(ROOTPATH)"
   ]
  },
  {
   "cell_type": "code",
   "execution_count": 1,
   "metadata": {
    "ExecuteTime": {
     "end_time": "2023-05-08T13:43:09.666390500Z",
     "start_time": "2023-05-08T13:43:09.658388600Z"
    },
    "scrolled": false
   },
   "outputs": [
    {
     "name": "stdout",
     "output_type": "stream",
     "text": [
      "2023-12-15 16:10:36,093 - INFO - start to get function segmentation... \n",
      "finished:0.00%   Batch 1\n",
      "2023-12-15 16:10:37,985 - INFO - start to get graphRelation by joern... \n",
      "joern_relationgood.py over...\n",
      "2023-12-15 16:10:58,501 - INFO - start to get seven edges...\n",
      "2023-12-15 16:10:59,418 - INFO - start to get cfgpath  by joern and concate... \n",
      "Processing getcfg jasper.c-main.c: 100%|████████| 10/10 [01:54<00:00, 11.46s/it]\n",
      "============================================================================================================\n",
      "2023-12-15 16:12:54,812 - INFO - extracted static feature stored in : /homee/feature/static/github/static/\n",
      "showing the static code information of /homee/feature/static/github/static/imginfo.c-cmdinfo.c.txt\n",
      "-----label-----\n",
      "0\n",
      "-----code-----\n",
      "static void cmdinfo()\n",
      "{\n",
      "\tfprintf(stderr, \"Image Information Utility (Version %s).\\n\",\n",
      "\t  JAS_VERSION);\n",
      "\tfprintf(stderr,\n",
      "\t  \"Copyright (c) 2001 Michael David Adams.\\n\"\n",
      "\t  \"All rights reserved.\\n\"\n",
      "\t  );\n",
      "}\n",
      "-----children-----\n",
      "1,2\n",
      "1,3\n",
      "1,4\n",
      "3,4\n",
      "5,6\n",
      "5,7\n",
      "6,7\n",
      "7,8\n",
      "7,9\n",
      "7,10\n",
      "7,11\n",
      "8,9\n",
      "10,11\n",
      "13,14\n",
      "15,16\n",
      "16,17\n",
      "16,18\n",
      "16,19\n",
      "17,18\n",
      "19,20\n",
      "-----nextToken-----\n",
      "2,4,9,11,12,14,18,20,21\n",
      "-----computeFrom-----\n",
      "-----guardedBy-----\n",
      "-----guardedByNegation-----\n",
      "-----lastLexicalUse-----\n",
      "-----jump-----\n",
      "-----attribute-----\n",
      "FunctionDefinition;SimpleDeclSpecifier;FunctionDeclarator;Name;CompoundStatement;ExpressionStatement;FunctionCallExpression;IdExpression;Name;IdExpression;Name;LiteralExpression;IdExpression;Name;ExpressionStatement;FunctionCallExpression;IdExpression;Name;IdExpression;Name;LiteralExpression;\n",
      "-----ast_node-----\n",
      "static void cmdinfo(){\tfprintf(stderr, \"Image Information Utility (Version %s).\\n\",\t  JAS_VERSION);\tfprintf(stderr,\t  \"Copyright (c) 2001 Michael David Adams.\\n\"\t  \"All rights reserved.\\n\"\t  );}\n",
      "static void\n",
      "cmdinfo()\n",
      "cmdinfo\n",
      "{\tfprintf(stderr, \"Image Information Utility (Version %s).\\n\",\t  JAS_VERSION);\tfprintf(stderr,\t  \"Copyright (c) 2001 Michael David Adams.\\n\"\t  \"All rights reserved.\\n\"\t  );}\n",
      "fprintf(stderr, \"Image Information Utility (Version %s).\\n\",\t  JAS_VERSION);\n",
      "fprintf(stderr, \"Image Information Utility (Version %s).\\n\",\t  JAS_VERSION)\n",
      "fprintf\n",
      "fprintf\n",
      "stderr\n",
      "stderr\n",
      "\"Image Information Utility (Version %s).\\n\"\n",
      "JAS_VERSION\n",
      "JAS_VERSION\n",
      "fprintf(stderr,\t  \"Copyright (c) 2001 Michael David Adams.\\n\"\t  \"All rights reserved.\\n\"\t  );\n",
      "fprintf(stderr,\t  \"Copyright (c) 2001 Michael David Adams.\\n\"\t  \"All rights reserved.\\n\"\t  )\n",
      "fprintf\n",
      "fprintf\n",
      "stderr\n",
      "stderr\n",
      "\"Copyright (c) 2001 Michael David Adams.\\n\"\t  \"All rights reserved.\\n\"\n",
      "-----joern-----\n",
      "(7,8,0)\n",
      "(4,12,0)\n",
      "(5,8,0)\n",
      "(14,9,0)\n",
      "(8,2,0)\n",
      "(3,2,0)\n",
      "(13,8,0)\n",
      "(6,1,0)\n",
      "(1,2,0)\n",
      "(10,9,0)\n",
      "(12,2,0)\n",
      "(9,2,0)\n",
      "(0,1,0)\n",
      "(8,13,1)\n",
      "(14,10,1)\n",
      "(10,3,1)\n",
      "(6,8,1)\n",
      "(7,9,1)\n",
      "(0,6,1)\n",
      "(11,12,1)\n",
      "(9,14,1)\n",
      "(4,1,1)\n",
      "(1,0,1)\n",
      "(12,4,1)\n",
      "(5,7,1)\n",
      "(13,5,1)\n",
      "-----------------------------------\n",
      "(0,\"[-f image_file]\\\\n\")\n",
      "(1,fprintf(stderr, \"[-f image_file]\\\\n\")\n",
      "(2,)\n",
      "(3,cmdinfo()\n",
      "(4,EXIT_FAILURE)\n",
      "(5,\"%s \")\n",
      "(6,stderr)\n",
      "(7,stderr)\n",
      "(8,fprintf(stderr,\"%s \", cmdname)\n",
      "(9,fprintf(stderr, \"usage:\\\\n\")\n",
      "(10,stderr)\n",
      "(11,RET)\n",
      "(12,exit(EXIT_FAILURE)\n",
      "(13,cmdname)\n",
      "(14,\"usage:\\\\n\")\n",
      "-----cfg-----\n",
      "(7,9)\n",
      "(9,13)\n",
      "(13,16)\n",
      "-----path-----\n",
      "7,9,13,16\n",
      "-----cfgNode-----\n",
      "5,<global>\n",
      "6,<empty>\n",
      "7,void cmdinfo ()\n",
      "8,<empty>\n",
      "9,fprintf(stderr, \"Image Information Utility (Version %s).\\n\",\n",
      "10,\t  JAS_VERSION)\n",
      "11,stderr\n",
      "12,\"Image Information Utility (Version %s).\\n\"\n",
      "13,JAS_VERSION\n",
      "14,fprintf(stderr,\n",
      "15,\t  \"Copyright (c) 2001 Michael David Adams.\\n\"\n",
      "16,\t  \"All rights reserved.\\n\"\n",
      "17,\t  )\n",
      "18,stderr\n",
      "19,\"Copyright (c) 2001 Michael David Adams.\\n\"\n",
      "20,\t  \"All rights reserved.\\n\"\n",
      "21,RET\n",
      "22,RET\n",
      "23,void cmdinfo ()\n",
      "24,<empty>\n",
      "25,fprintf(stderr, \"Image Information Utility (Version %s).\\n\",\n",
      "26,\t  JAS_VERSION)\n",
      "27,stderr\n",
      "28,\"Image Information Utility (Version %s).\\n\"\n",
      "29,JAS_VERSION\n",
      "30,fprintf(stderr,\n",
      "31,\t  \"Copyright (c) 2001 Michael David Adams.\\n\"\n",
      "32,\t  \"All rights reserved.\\n\"\n",
      "33,\t  )\n",
      "34,stderr\n",
      "35,\"Copyright (c) 2001 Michael David Adams.\\n\"\n",
      "36,\t  \"All rights reserved.\\n\"\n",
      "37,RET\n",
      "=====================================\n"
     ]
    }
   ],
   "source": [
    "#  Extract Program Information (To show static code information like sec 3.3.1.)\n",
    "ROOTPATH=\"/homee\"\n",
    "import os\n",
    "current=ROOTPATH\n",
    "projectPath=os.path.join(current,\"Evaluation/exampleProject/test1\")\n",
    "scriptPath=os.path.join(current,\"Evaluation/demo1/getStatic.sh\")\n",
    "!bash $scriptPath $projectPath"
   ]
  },
  {
   "cell_type": "code",
   "execution_count": 2,
   "metadata": {},
   "outputs": [
    {
     "name": "stdout",
     "output_type": "stream",
     "text": [
      " Pretraining the Representation Models......\n"
     ]
    },
    {
     "name": "stderr",
     "output_type": "stream",
     "text": [
      "dirs: 276it [00:02, 120.95it/s]\n"
     ]
    },
    {
     "name": "stdout",
     "output_type": "stream",
     "text": [
      "\n",
      "{'train_runtime': 39.4135, 'train_samples_per_second': 5.252, 'epoch': 3.0}\n",
      "\n",
      " Saving model checkpoint to /homee/concoction/pretrainedModel/staticRepresentation/trainedModel\n"
     ]
    }
   ],
   "source": [
    "#  Pretrain Representation Models (Here we use Graphcodebert like sec 3.4)\n",
    "from Evaluation.demo1.concoction import concoction\n",
    "path=os.path.join(ROOTPATH,'concoction/data/dataset')\n",
    "concoction.staticRepre(path)"
   ]
  },
  {
   "cell_type": "code",
   "execution_count": 1,
   "metadata": {},
   "outputs": [
    {
     "name": "stdout",
     "output_type": "stream",
     "text": [
      " Show the Trained Model(Static code Infomation Representation Model)\n",
      "code:\n",
      "return maximum value def max(a,b): if a>b: return a else return b\n",
      "embeddings:\n",
      "tensor([[[ 0.1754,  0.3331, -0.1164,  ..., -0.1947, -0.0989,  0.2439],\n",
      "         [ 0.5517, -0.0895,  0.5738,  ...,  0.2453,  0.7528, -0.0612],\n",
      "         [ 0.0321,  0.5738, -0.1051,  ...,  0.4737, -0.4283, -0.0198],\n",
      "         ...,\n",
      "         [ 0.2595,  0.3111,  0.6235,  ...,  0.7633,  0.5064, -0.2399],\n",
      "         [ 0.1580,  0.6947, -0.1427,  ...,  1.7891, -0.6057, -0.1192],\n",
      "         [ 0.1754,  0.3332, -0.1164,  ..., -0.1947, -0.0990,  0.2439]]],\n",
      "       grad_fn=<NativeLayerNormBackward>)\n",
      "\n"
     ]
    }
   ],
   "source": [
    "#  Show the Trained Model (like the example in https://github.com/microsoft/CodeBERT)\n",
    "ROOTPATH=\"/homee\"\n",
    "import os\n",
    "from Evaluation.demo1.concoction import concoction\n",
    "path=os.path.join(ROOTPATH,'concoction/data/dataset')\n",
    "concoction.showStaticRepre()"
   ]
  },
  {
   "cell_type": "markdown",
   "metadata": {},
   "source": [
    "\n",
    "#### *Dynamic representation model*:\n"
   ]
  },
  {
   "cell_type": "code",
   "execution_count": 1,
   "metadata": {
    "ExecuteTime": {
     "end_time": "2023-05-08T13:43:09.678393300Z",
     "start_time": "2023-05-08T13:43:09.665390300Z"
    },
    "scrolled": false
   },
   "outputs": [
    {
     "name": "stdout",
     "output_type": "stream",
     "text": [
      "/homee/feature/dynamic/main.sh\n",
      "/homee/feature/dynamic\n",
      "/homee/feature/dynamic/log\n",
      "static ffeature exisit\n",
      "==========================begin to prepare the dependency=============\n",
      "==========================succeed to prepare the dependency==========================\n",
      "==========================begin to insert the program=============\n",
      "^C\n",
      "Traceback (most recent call last):\n",
      "  File \"/homee/feature/dynamic/insert.py\", line 16, in <module>\n",
      "    stdout, stderr = process.communicate()\n",
      "  File \"/root/anaconda3/lib/python3.9/subprocess.py\", line 1134, in communicate\n",
      "    stdout, stderr = self._communicate(input, endtime, timeout)\n",
      "  File \"/root/anaconda3/lib/python3.9/subprocess.py\", line 1979, in _communicate\n",
      "    ready = selector.select(timeout)\n",
      "  File \"/root/anaconda3/lib/python3.9/selectors.py\", line 416, in select\n",
      "    fd_event_list = self._selector.poll(timeout)\n",
      "KeyboardInterrupt\n"
     ]
    }
   ],
   "source": [
    "#  Extract Program Information (To show dynamic code information like sec 3.3.2.)\n",
    "import os\n",
    "ROOTPATH=os.getcwd()\n",
    "shell_file=os.path.join(ROOTPATH,'Evaluation/demo1/getDynamic.sh')\n",
    "project_path=os.path.join(ROOTPATH,'Evaluation/exampleProject/jasper-version-1.900.1')\n",
    "!sh $shell_file $project_path "
   ]
  },
  {
   "cell_type": "code",
   "execution_count": null,
   "metadata": {},
   "outputs": [],
   "source": [
    "#  show dynamic code information"
   ]
  },
  {
   "cell_type": "code",
   "execution_count": 1,
   "metadata": {},
   "outputs": [
    {
     "name": "stdout",
     "output_type": "stream",
     "text": [
      " Preprocesing the data......\n",
      "\n"
     ]
    },
    {
     "name": "stderr",
     "output_type": "stream",
     "text": [
      "\r",
      "dirs: 0it [00:00, ?it/s]\r",
      "dirs: 2it [00:00, 1605.48it/s]\n"
     ]
    },
    {
     "name": "stdout",
     "output_type": "stream",
     "text": [
      " Pretraining Representation Models......\n",
      "\n",
      " Saving model checkpoint to /homee/concoction/pretrainedModel/dynamicRepresentation/trainedModel\n"
     ]
    }
   ],
   "source": [
    "#  Pretrain Representation Models (Here we use Simcse like sec 3.4)\n",
    "#preprocess\n",
    "ROOTPATH=\"/homee\"\n",
    "import os\n",
    "from Evaluation.demo1.concoction import concoction\n",
    "path=os.path.join(ROOTPATH,'concoction/data/test1')\n",
    "concoction.dynamicRepre(path)"
   ]
  },
  {
   "cell_type": "code",
   "execution_count": 2,
   "metadata": {},
   "outputs": [
    {
     "name": "stdout",
     "output_type": "stream",
     "text": [
      " Show the Trained Model(Dynamic code Infomation Representation Model)\n",
      "code:\n",
      "return maximum value def max(a,b): if a>b: return a else return b\n",
      "embeddings:\n",
      "tensor([[[-0.5703, -1.0246, -0.3897,  ..., -0.7287, -0.4726,  0.9084],\n",
      "         [-0.0643, -0.1703,  0.2327,  ..., -0.0604, -0.3340,  0.2383],\n",
      "         [-0.4101, -0.2475,  0.0554,  ..., -0.5917, -0.3134,  0.2552],\n",
      "         ...,\n",
      "         [-0.3825, -0.3133,  0.4725,  ..., -0.2311,  0.3169,  0.2711],\n",
      "         [ 0.2373,  0.0591,  1.0455,  ..., -0.1821, -0.9699,  0.1698],\n",
      "         [ 0.6703,  0.2020,  0.1332,  ..., -1.2445,  0.2533,  0.3259]]],\n",
      "       grad_fn=<NativeLayerNormBackward>)\n",
      "\n"
     ]
    }
   ],
   "source": [
    "#  Show the Trained Model (like the example in https://github.com/microsoft/CodeBERT)\n",
    "ROOTPATH=\"/homee\"\n",
    "import os\n",
    "from Evaluation.demo1.concoction import concoction\n",
    "path=os.path.join(ROOTPATH,'concoction/data/dataset')\n",
    "concoction.showDynamicRepre()"
   ]
  },
  {
   "cell_type": "markdown",
   "metadata": {},
   "source": [
    "\n",
    "\n",
    "## Step 2. Vulnerability Detection\n",
    "\n",
    " Concoction’s detection component takes the joint embedding as input to predict the presence of vulnerabilities.  Our current implementation only identifies whether a function may contain a vulnerability or bug and does not specify the type of vulnerability. Here we use SARD benchmarks.\n",
    "\n",
    "**approximate runtime ~ 30 minutes (please wait before moving to the next cell)**\n",
    "\n",
    "#### *Dynamic representation model*:\n"
   ]
  },
  {
   "cell_type": "code",
   "execution_count": 1,
   "metadata": {},
   "outputs": [
    {
     "name": "stdout",
     "output_type": "stream",
     "text": [
      "Training the detection Model...\n",
      "Load data from exist npy\n",
      "Computing embedding for train\n",
      "Computed train embeddings\n",
      "Computing embedding for dev\n",
      "Computed dev embeddings\n",
      "Computing embedding for test\n",
      "Computed test embeddings\n",
      "Training best: f1 = 0.8881118943903565, precision = 0.9694656729698181,recall = 0.8193548321723938,accuracy = 0.8853046594982079\n",
      "Training best: f1 = 0.8881118943903565, precision = 0.9694656729698181,recall = 0.8193548321723938,accuracy = 0.8853046594982079\n",
      "Training best: f1 = 0.8881118943903565, precision = 0.9694656729698181,recall = 0.8193548321723938,accuracy = 0.8853046594982079\n",
      "Training best: f1 = 0.8881118943903565, precision = 0.9694656729698181,recall = 0.8193548321723938,accuracy = 0.8853046594982079\n",
      "Validation : f1 = 0.8881118943903565, precision = 0.9694656729698181,recall = 0.8193548321723938,accuracy = 0.8853046594982079\n",
      "Training best: f1 = 0.8881118943903565, precision = 0.9694656729698181,recall = 0.8193548321723938,accuracy = 0.8853046594982079\n",
      "model clf saved to./f1_0.8881118943903565_2023-12-14.h5...\n",
      "Test : f1 = 0.8401487068813583, precision = 0.89682537317276,recall = 0.7902097702026367,accuracy = 0.8464285714285714\n",
      "\n"
     ]
    }
   ],
   "source": [
    "# Training the detection Model\n",
    "ROOTPATH=\"/homee\"\n",
    "import os\n",
    "from Evaluation.demo1.concoction import concoction\n",
    "concoction.trainDetectModel()"
   ]
  },
  {
   "cell_type": "code",
   "execution_count": 2,
   "metadata": {},
   "outputs": [
    {
     "name": "stdout",
     "output_type": "stream",
     "text": [
      "Show the Trained Model (Load trained model and test on test case)\n",
      "{'nhid': 2, 'optim': 'adam', 'batch_size': 64, 'tenacity': 5, 'epoch_size': 200}\n",
      "Load data from exist npy\n",
      "Computed data embeddings\n",
      "model load from/homee/Evaluation/ExperimentalEvaluation/Concoction/saved_models/github.h5\n",
      "prediction : f1 = 0.8715083573586397, precision = 0.8914285898208618,recall = 0.8524590134620667,accuracy = 0.8685714285714285\n",
      "\n"
     ]
    }
   ],
   "source": [
    "#  Show the Trained Model (Load trained model and test on test case)\n",
    "ROOTPATH=\"/homee\"\n",
    "import os\n",
    "from Evaluation.demo1.concoction import concoction\n",
    "path=os.path.join(ROOTPATH,'concoction/data/dataset')\n",
    "concoction.showDetectModel()"
   ]
  },
  {
   "cell_type": "markdown",
   "metadata": {},
   "source": [
    "## Step 3. Deployment\n",
    "\n",
    "This demo shows how to deploy our trained model on a real world project. Here we apply the xx as our test project.\n",
    "\n",
    "#### *Path Selection for Symbolic Execution*:\n",
    "After training the end-to-end model, we develop a path selection component to automatically select a subset of important paths whose dynamic traces are likely to improve prediction accuracy during deployment.\n",
    "\n",
    "*approximate runtime ~ 30 minutes*"
   ]
  },
  {
   "cell_type": "code",
   "execution_count": 1,
   "metadata": {
    "ExecuteTime": {
     "end_time": "2023-05-08T13:43:09.709400100Z",
     "start_time": "2023-05-08T13:43:09.695397900Z"
    }
   },
   "outputs": [
    {
     "name": "stdout",
     "output_type": "stream",
     "text": [
      "Extracting Execution path representation...\n"
     ]
    },
    {
     "name": "stderr",
     "output_type": "stream",
     "text": [
      "dirs: 2it [00:02,  1.14s/it]\n"
     ]
    },
    {
     "name": "stdout",
     "output_type": "stream",
     "text": [
      "preprocess data........\n",
      "\n",
      "Execution path representation stored in /homee/concoction/data/feature_path\n"
     ]
    }
   ],
   "source": [
    "# Execution path representation (shown as Sec. 3.6.1)\n",
    "ROOTPATH=\"/homee\"\n",
    "import os\n",
    "from Evaluation.demo1.concoction import concoction\n",
    "concoction.extractPathRepre()"
   ]
  },
  {
   "cell_type": "code",
   "execution_count": 1,
   "metadata": {},
   "outputs": [
    {
     "name": "stdout",
     "output_type": "stream",
     "text": [
      "Active learning for path selection...\n"
     ]
    },
    {
     "name": "stderr",
     "output_type": "stream",
     "text": [
      "100%|██████████| 126/126 [00:14<00:00,  8.73it/s]\n"
     ]
    },
    {
     "name": "stdout",
     "output_type": "stream",
     "text": [
      "Load Data....\n",
      "saved the select path to /homee/concoction/data/feature_path_text\n",
      "\n"
     ]
    }
   ],
   "source": [
    "# Active learning for path selection (Sec. 3.6.2)\n",
    "#data preprocess\n",
    "\n",
    "ROOTPATH=\"/homee\"\n",
    "import os\n",
    "from Evaluation.demo1.concoction import concoction\n",
    "concoction.pathSelect()"
   ]
  },
  {
   "cell_type": "code",
   "execution_count": 1,
   "metadata": {},
   "outputs": [
    {
     "name": "stdout",
     "output_type": "stream",
     "text": [
      "Symbolic execution for chosen paths...\n",
      "Execution results stored in the /homee/concoction/data/feature_result\n",
      "\n"
     ]
    }
   ],
   "source": [
    "# Symbolic execution for chosen paths (Sec. 3.6.3)\n",
    "ROOTPATH=\"/homee\"\n",
    "import os\n",
    "from Evaluation.demo1.concoction import concoction\n",
    "concoction.symbolicOnPath()"
   ]
  },
  {
   "cell_type": "markdown",
   "metadata": {},
   "source": [
    "#### *Fuzzing for Test Case Generation*:\n",
    "\n",
    " We use fuzzing techniques to generate test cases for functions predicted to contain potential vulnerabilities, aiming to automate the testing process and minimize the need for manual inspection."
   ]
  },
  {
   "cell_type": "code",
   "execution_count": null,
   "metadata": {
    "ExecuteTime": {
     "end_time": "2023-05-08T13:43:09.727404100Z",
     "start_time": "2023-05-08T13:43:09.711400500Z"
    }
   },
   "outputs": [],
   "source": [
    "# Utilizing AFL++ To Objective project (Shown as Sec. 3.7)"
   ]
  },
  {
   "cell_type": "markdown",
   "metadata": {},
   "source": [
    "## Demo 2: Experimental Evaluation\n",
    "\n",
    "Here, we provide a small-sized evaluation to showcase the working mechanism of Concoction bug detection. A full-scale evaluation, which takes more than a day to run, is provided through the Docker image (with detailed instructions on our project Github).\n",
    "\n",
    "### Large-scale Testing (Section 5.1)\n",
    "\n",
    " This part (add a web link) gives a quantified summary of Concoction for detecting function-level code vulnerabilities across the 20 projects listed in Table 1 in our papaer.\n",
    "\n",
    "This demo corresponds to Table 5 of the submitted manuscript.\n"
   ]
  },
  {
   "cell_type": "markdown",
   "metadata": {},
   "source": [
    "### Evaluation on Open Dataset (Section  5.2)\n",
    "\n",
    "We now evaluate our vulnerability detection model on the SARD and CVE datasets in Table 2 in paper.\n",
    "\n",
    "This demo corresponds to Figure 9 and 10 of the submitted manuscript.\n",
    "\n",
    "*approximate runtime = 10 minutes for one benchmark*\n",
    "\n",
    "#### *Sard Dataset*:\n"
   ]
  },
  {
   "cell_type": "code",
   "execution_count": 1,
   "metadata": {
    "ExecuteTime": {
     "end_time": "2023-05-08T13:43:09.740861300Z",
     "start_time": "2023-05-08T13:43:09.725404Z"
    },
    "scrolled": false
   },
   "outputs": [
    {
     "name": "stdout",
     "output_type": "stream",
     "text": [
      "method:vuldeepecker\n",
      "load_saved_model:/homee/Evaluation/ExperimentalEvaluation/vuldeepker/saved_models/cwe416.h5\n",
      "dataDir:/homee/Evaluation/ExperimentalEvaluation/data/sard/cwe416_test\n",
      "/root/anaconda3/envs/vuldeepecker1/bin/python vuldeepecker.py --data_path '/homee/Evaluation/ExperimentalEvaluation/data/sard/cwe416_test' --mode pre --model_to_load /homee/Evaluation/ExperimentalEvaluation/vuldeepker/saved_models/cwe416.h5 2>run.log\n",
      "==============random_state===========\n",
      " 42\n",
      "tracking <tf.Variable 'Variable:0' shape=() dtype=int32> tp\n",
      "tracking <tf.Variable 'Variable_1:0' shape=() dtype=int32> fp\n",
      "tracking <tf.Variable 'Variable_2:0' shape=() dtype=int32> tp\n",
      "tracking <tf.Variable 'Variable_3:0' shape=() dtype=int32> fn\n",
      "tracking <tf.Variable 'Variable_4:0' shape=() dtype=int32> tp\n",
      "tracking <tf.Variable 'Variable_5:0' shape=() dtype=int32> fp\n",
      "tracking <tf.Variable 'Variable_6:0' shape=() dtype=int32> tp\n",
      "tracking <tf.Variable 'Variable_7:0' shape=() dtype=int32> fn\n",
      "Model: \"sequential_1\"\n",
      "_________________________________________________________________\n",
      "Layer (type)                 Output Shape              Param #   \n",
      "=================================================================\n",
      "bidirectional_1 (Bidirection (None, 600)               842400    \n",
      "_________________________________________________________________\n",
      "dense_1 (Dense)              (None, 300)               180300    \n",
      "_________________________________________________________________\n",
      "leaky_re_lu_1 (LeakyReLU)    (None, 300)               0         \n",
      "_________________________________________________________________\n",
      "dropout_1 (Dropout)          (None, 300)               0         \n",
      "_________________________________________________________________\n",
      "dense_2 (Dense)              (None, 300)               90300     \n",
      "_________________________________________________________________\n",
      "leaky_re_lu_2 (LeakyReLU)    (None, 300)               0         \n",
      "_________________________________________________________________\n",
      "dropout_2 (Dropout)          (None, 300)               0         \n",
      "_________________________________________________________________\n",
      "dense_3 (Dense)              (None, 2)                 602       \n",
      "=================================================================\n",
      "Total params: 1,113,602\n",
      "Trainable params: 1,113,602\n",
      "Non-trainable params: 0\n",
      "_________________________________________________________________\n",
      "Accuracy is... 1.0\n",
      "True recall is... 1.0\n",
      "Precision is... 1.0\n",
      "F1 score is... 1.0\n",
      "Figure(640x480)\n",
      "draw(acc,precision,recall,f1).....\n",
      "\n"
     ]
    }
   ],
   "source": [
    "# Prepare the dataset and preprocess (use parameter to change CWE type and method,\n",
    "#                                     like FUN A( dataset = 'CWE-123', method = 'Vuldeepecker' ))\n",
    "%matplotlib inline\n",
    "from Evaluation.demo2.demo2 import *\n",
    "# Train and test.\n",
    "EvaluationSard(\"CWE-416\",\"vuldeepecker\").run()"
   ]
  },
  {
   "cell_type": "markdown",
   "metadata": {},
   "source": [
    "#### *Github Dataset*:\n"
   ]
  },
  {
   "cell_type": "code",
   "execution_count": 2,
   "metadata": {
    "ExecuteTime": {
     "end_time": "2023-05-08T13:43:09.758882900Z",
     "start_time": "2023-05-08T13:43:09.741861500Z"
    }
   },
   "outputs": [
    {
     "name": "stdout",
     "output_type": "stream",
     "text": [
      "method:vuldeepecker\n",
      "load_saved_model:/homee/Evaluation/ExperimentalEvaluation/vuldeepker/saved_models/github.h5\n",
      "dataDir:/homee/Evaluation/ExperimentalEvaluation/data/github_0.6_new/test\n",
      "/root/anaconda3/envs/vuldeepecker1/bin/python vuldeepecker.py --data_path '/homee/Evaluation/ExperimentalEvaluation/data/github_0.6_new/test' --mode pre --model_to_load /homee/Evaluation/ExperimentalEvaluation/vuldeepker/saved_models/github.h5 2>run.log\n",
      "==============random_state===========\n",
      " 42\n",
      "tracking <tf.Variable 'Variable:0' shape=() dtype=int32> tp\n",
      "tracking <tf.Variable 'Variable_1:0' shape=() dtype=int32> fp\n",
      "tracking <tf.Variable 'Variable_2:0' shape=() dtype=int32> tp\n",
      "tracking <tf.Variable 'Variable_3:0' shape=() dtype=int32> fn\n",
      "tracking <tf.Variable 'Variable_4:0' shape=() dtype=int32> tp\n",
      "tracking <tf.Variable 'Variable_5:0' shape=() dtype=int32> fp\n",
      "tracking <tf.Variable 'Variable_6:0' shape=() dtype=int32> tp\n",
      "tracking <tf.Variable 'Variable_7:0' shape=() dtype=int32> fn\n",
      "Model: \"sequential_1\"\n",
      "_________________________________________________________________\n",
      "Layer (type)                 Output Shape              Param #   \n",
      "=================================================================\n",
      "bidirectional_1 (Bidirection (None, 600)               842400    \n",
      "_________________________________________________________________\n",
      "dense_1 (Dense)              (None, 300)               180300    \n",
      "_________________________________________________________________\n",
      "leaky_re_lu_1 (LeakyReLU)    (None, 300)               0         \n",
      "_________________________________________________________________\n",
      "dropout_1 (Dropout)          (None, 300)               0         \n",
      "_________________________________________________________________\n",
      "dense_2 (Dense)              (None, 300)               90300     \n",
      "_________________________________________________________________\n",
      "leaky_re_lu_2 (LeakyReLU)    (None, 300)               0         \n",
      "_________________________________________________________________\n",
      "dropout_2 (Dropout)          (None, 300)               0         \n",
      "_________________________________________________________________\n",
      "dense_3 (Dense)              (None, 2)                 602       \n",
      "=================================================================\n",
      "Total params: 1,113,602\n",
      "Trainable params: 1,113,602\n",
      "Non-trainable params: 0\n",
      "_________________________________________________________________\n",
      "Accuracy is... 0.6085714285714285\n",
      "True recall is... 0.5956284153005464\n",
      "Precision is... 0.6337209302325582\n",
      "F1 score is... 0.6140845070422535\n",
      "\n"
     ]
    }
   ],
   "source": [
    "from Evaluation.demo2.demo2 import *\n",
    "EvaluationGithub(\"Github\",\"vuldeepecker\").run()"
   ]
  },
  {
   "cell_type": "code",
   "execution_count": null,
   "metadata": {},
   "outputs": [],
   "source": []
  },
  {
   "cell_type": "markdown",
   "metadata": {},
   "source": [
    "\n",
    "#### Full-scale evaluation data\n",
    "\n",
    "We now plot the diagrams using full-scale evaluation data (it would take too long to run the experiment lively). The results correspond to Figure 9 and 10 (Section 5.2) of the submitted manuscript."
   ]
  },
  {
   "cell_type": "code",
   "execution_count": null,
   "metadata": {
    "ExecuteTime": {
     "end_time": "2023-05-08T13:43:09.772886Z",
     "start_time": "2023-05-08T13:43:09.757882600Z"
    }
   },
   "outputs": [],
   "source": [
    "# Output Figure 9: Evaluation on standard vulnerability databases. Min-max bars show performance across vulnerability types.\n",
    "# Output Figure 10:  Evaluation on the CVE dataset Concoction gives the best performance across evaluation metrics."
   ]
  },
  {
   "cell_type": "markdown",
   "metadata": {},
   "source": [
    "### Case Study 3:  Evaluation on Opensource Projects (Section 5.3)\n",
    "\n",
    "We now compare to the baseline methods by applying them to the three open-source projects in Table 3 with a total of 35 CVEs reported by independent users.\n",
    "\n",
    "This demo corresponds to Figure 11 of the submitted manuscript.\n",
    "\n",
    "*approximate runtime = xx minutes for one benchmark*\n",
    "\n",
    "### Client RL Deployment Demo\n",
    "\n",
    "This demo shows how to apply the saved client RL to optimize a test program for Code Size Reduction. \n",
    "\n",
    "*approximate runtime ~ 15 minutes*\n",
    "\n",
    "#### Performance evaluation on benchmarks\n",
    "Benchmarks: Sqlite, Libtiff, Libpng.\n",
    "*approximate runtime ~ 20 minutes*"
   ]
  },
  {
   "cell_type": "code",
   "execution_count": null,
   "metadata": {
    "ExecuteTime": {
     "end_time": "2023-05-08T13:43:09.790890100Z",
     "start_time": "2023-05-08T13:43:09.773886200Z"
    }
   },
   "outputs": [],
   "source": [
    "# Load model and test benchmarks (Input benchmark and method like FUN A( project = 'Sqlite', method = 'Concoction')."
   ]
  },
  {
   "cell_type": "markdown",
   "metadata": {},
   "source": [
    "#### Full-scale evaluation data\n",
    "We now generate the table using full-scale evaluation data (it would take too long to run the experiment lively). The results correspond to Figure 11 (Section 5.3) of the submitted manuscript."
   ]
  },
  {
   "cell_type": "code",
   "execution_count": null,
   "metadata": {
    "ExecuteTime": {
     "end_time": "2023-05-08T13:43:09.804893200Z",
     "start_time": "2023-05-08T13:43:09.788889500Z"
    }
   },
   "outputs": [],
   "source": [
    "# Output Figure 11: The number of vulnerabilities identified Concoction and other methods for open-source projects in Table 3."
   ]
  },
  {
   "cell_type": "markdown",
   "metadata": {},
   "source": [
    "### Further Analysis (Alternative)\n",
    "\n",
    "####  DL model implementation choices.\n",
    "\n",
    "we evaluate several variants of Concoction on the CVE dataset.\n",
    "\n",
    "This demo corresponds to Figure 12 of the submitted manuscript.\n",
    "\n",
    "*approximate runtime = xx minutes for one benchmark*"
   ]
  },
  {
   "cell_type": "code",
   "execution_count": null,
   "metadata": {
    "ExecuteTime": {
     "end_time": "2023-05-08T13:43:09.822897400Z",
     "start_time": "2023-05-08T13:43:09.805893300Z"
    }
   },
   "outputs": [],
   "source": [
    "# Load model and test CVE benchmarks (Input method like FUN A( method = 'Static')."
   ]
  },
  {
   "cell_type": "markdown",
   "metadata": {},
   "source": [
    "#### Full-scale evaluation data\n",
    "We now generate the figure using full-scale evaluation data (it would take too long to run the experiment lively). The results correspond to Figure 12 (Section 5.4) of the submitted manuscript.\n"
   ]
  },
  {
   "cell_type": "code",
   "execution_count": null,
   "metadata": {
    "ExecuteTime": {
     "end_time": "2023-05-08T13:43:09.835900200Z",
     "start_time": "2023-05-08T13:43:09.819896400Z"
    }
   },
   "outputs": [],
   "source": [
    "# Output Figure 12:  Comparing implementation variants of Concoction on the CVE dataset."
   ]
  },
  {
   "cell_type": "code",
   "execution_count": 1,
   "metadata": {},
   "outputs": [
    {
     "ename": "SyntaxError",
     "evalue": "invalid syntax (3808677600.py, line 1)",
     "output_type": "error",
     "traceback": [
      "\u001b[0;36m  File \u001b[0;32m\"/tmp/ipykernel_17066/3808677600.py\"\u001b[0;36m, line \u001b[0;32m1\u001b[0m\n\u001b[0;31m    bash t.sh\u001b[0m\n\u001b[0m         ^\u001b[0m\n\u001b[0;31mSyntaxError\u001b[0m\u001b[0;31m:\u001b[0m invalid syntax\n"
     ]
    }
   ],
   "source": [
    "bash t.sh"
   ]
  },
  {
   "cell_type": "code",
   "execution_count": 3,
   "metadata": {},
   "outputs": [
    {
     "name": "stdout",
     "output_type": "stream",
     "text": [
      "draw...\n"
     ]
    },
    {
     "data": {
      "image/png": "[encoded data removed]",
      "text/plain": [
       "<Figure size 640x480 with 1 Axes>"
      ]
     },
     "metadata": {},
     "output_type": "display_data"
    },
    {
     "name": "stdout",
     "output_type": "stream",
     "text": [
      "draw...\n"
     ]
    }
   ],
   "source": [
    "import matplotlib.pyplot as plt\n",
    "import numpy as np\n",
    "import os\n",
    "\n",
    "\n",
    "def draw():\n",
    "    print(\"draw...\")\n",
    "\n",
    "\n",
    "    x = np.array([\"acc\", \"pre\", \"recall\", \"f1\"])\n",
    "    y = np.array([12, 22, 6, 18])\n",
    "\n",
    "    plt.bar(x,y)\n",
    "    plt.show()\n",
    "    print(\"draw...\")\n",
    "# draw()\n",
    "\n",
    "if __name__ == '__main__':\n",
    "    draw()"
   ]
  },
  {
   "cell_type": "code",
   "execution_count": null,
   "metadata": {},
   "outputs": [],
   "source": []
  },
  {
   "cell_type": "code",
   "execution_count": null,
   "metadata": {},
   "outputs": [],
   "source": []
  }
 ],
 "metadata": {
  "kernelspec": {
   "display_name": "Python 3 (ipykernel)",
   "language": "python",
   "name": "python3"
  },
  "language_info": {
   "codemirror_mode": {
    "name": "ipython",
    "version": 3
   },
   "file_extension": ".py",
   "mimetype": "text/x-python",
   "name": "python",
   "nbconvert_exporter": "python",
   "pygments_lexer": "ipython3",
   "version": "3.9.13"
  }
 },
 "nbformat": 4,
 "nbformat_minor": 4
}
