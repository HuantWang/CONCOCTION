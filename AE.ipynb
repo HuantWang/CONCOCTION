{
 "cells": [
  {
   "cell_type": "markdown",
   "metadata": {},
   "source": [
    "# Artifacts Evaluation Instructions: #506   Combining Static and Dynamic Code Information for Software Vulnerability Prediction\n",
    "\n",
    "## Preliminaries\n",
    "\n",
    "This interactive Jupyter notebook provides a small-scale demo to showcase the program representation, vulnerability detection, and prediction of vulnerability detection discussed in the paper.\n",
    "\n",
    "The main results of our CCS 2023 paper involve comparing the performance of our vulnerability detection with prior machine learning-based approaches. The evaluation presented in our paper was conducted on a much larger dataset and for a longer duration. The intention of this notebook is to provide minimal working examples that can be evaluated within a reasonable time frame.\n",
    "\n",
    "## Instructions for Experimental Workflow:\n",
    "\n",
    "Before you start, please first make a copy of the notebook by going to the landing page. Then select the checkbox next to the notebook titled *main.ipynb*, then click \"**Duplicate**\".\n",
    "\n",
    "Click the name of the newly created Jupyter Notebook, e.g. **AE-Copy1.ipynb**. Next, select \"**Kernel**\" > \"**Restart & Clear Output**\". Then, repeatedly press the play button (the tooltip is \"run cell, select below\") to step through each cell of the notebook.\n",
    "\n",
    "Alternatively, select each cell in turn and use \"**Cell**\"> \"**Run Cell**\" from the menu to run specific cells. Note that some cells depend on previous cells being executed. If any errors occur, ensure all previous cells have been executed.\n",
    "\n",
    "## Important Notes\n",
    "\n",
    "**Some cells can take more than half an hour to complete; please wait for the results until step to the next cell.** \n",
    "\n",
    "High load can lead to a long wait for results. This may occur if multiple reviewers are simultaneously trying to generate results. \n",
    "\n",
    "The experiments are customisable as the code provided in the Jupyter Notebook can be edited on the spot. Simply type your changes into the code blocks and re-run using **Cell > Run Cells** from the menu.\n",
    "\n",
    "## Links to The Paper\n",
    "\n",
    "For each step, we note the section number of the submitted version where the relevant technique is described or data is presented.\n",
    "\n",
    "The main results are presented in Figures 9-12 of the submitted paper."
   ]
  },
  {
   "cell_type": "markdown",
   "metadata": {},
   "source": [
    "# Demo 1: The Concoction Model Architecture\n",
    "\n",
    "This demo corresponds to the architecture given in Figure 3. Note that This is a small-scale demo for vulnerability detection. The full-scale evaluation used in the paper takes over 24 hours to run.\n",
    "\n",
    "## Step 1. Program representation\n",
    "\n",
    "The program representation component maps the input source code and dynamic symbolic execution traces of the target function into a numerical embedding vector.\n",
    "\n",
    "#### *Static representation model*:"
   ]
  },
  {
   "cell_type": "code",
   "execution_count": 1,
   "metadata": {},
   "outputs": [
    {
     "name": "stdout",
     "output_type": "stream",
     "text": [
      "/homee\n"
     ]
    }
   ],
   "source": [
    "import os\n",
    "ROOTPATH=os.getcwd()\n",
    "print(ROOTPATH)"
   ]
  },
  {
   "cell_type": "code",
   "execution_count": 2,
   "metadata": {
    "ExecuteTime": {
     "end_time": "2023-05-08T13:43:09.666390500Z",
     "start_time": "2023-05-08T13:43:09.658388600Z"
    },
    "scrolled": true
   },
   "outputs": [
    {
     "name": "stdout",
     "output_type": "stream",
     "text": [
      "2023-12-21 19:53:08,904 - INFO - start to get function segmentation... \n",
      "finished:0.00%   Batch 1\n",
      "2023-12-21 19:53:11,712 - INFO - start to get graphRelation by joern... \n",
      "joern_relationgood.py over...\n",
      "2023-12-21 19:53:36,647 - INFO - start to get seven edges...\n",
      "2023-12-21 19:53:37,568 - INFO - start to get cfgpath  by joern and concate... \n",
      "Processing getcfg jasper.c-main.c: 100%|████████| 10/10 [02:33<00:00, 15.40s/it]\n",
      "============================================================================================================\n",
      "2023-12-21 19:56:12,244 - INFO - extracted static feature stored in : /homee/feature/static/github/static/\n",
      "showing the static code information of /homee/feature/static/github/static/imginfo.c-cmdinfo.c.txt\n",
      "-----label-----\n",
      "0\n",
      "-----code-----\n",
      "static void cmdinfo()\n",
      "{\n",
      "\tfprintf(stderr, \"Image Information Utility (Version %s).\\n\",\n",
      "\t  JAS_VERSION);\n",
      "\tfprintf(stderr,\n",
      "\t  \"Copyright (c) 2001 Michael David Adams.\\n\"\n",
      "\t  \"All rights reserved.\\n\"\n",
      "\t  );\n",
      "}\n",
      "-----children-----\n",
      "1,2\n",
      "1,3\n",
      "1,4\n",
      "3,4\n",
      "5,6\n",
      "5,7\n",
      "6,7\n",
      "7,8\n",
      "7,9\n",
      "7,10\n",
      "7,11\n",
      "8,9\n",
      "10,11\n",
      "13,14\n",
      "15,16\n",
      "16,17\n",
      "16,18\n",
      "16,19\n",
      "17,18\n",
      "19,20\n",
      "-----nextToken-----\n",
      "2,4,9,11,12,14,18,20,21\n",
      "-----computeFrom-----\n",
      "-----guardedBy-----\n",
      "-----guardedByNegation-----\n",
      "-----lastLexicalUse-----\n",
      "-----jump-----\n",
      "-----attribute-----\n",
      "FunctionDefinition;SimpleDeclSpecifier;FunctionDeclarator;Name;CompoundStatement;ExpressionStatement;FunctionCallExpression;IdExpression;Name;IdExpression;Name;LiteralExpression;IdExpression;Name;ExpressionStatement;FunctionCallExpression;IdExpression;Name;IdExpression;Name;LiteralExpression;\n",
      "-----ast_node-----\n",
      "static void cmdinfo(){\tfprintf(stderr, \"Image Information Utility (Version %s).\\n\",\t  JAS_VERSION);\tfprintf(stderr,\t  \"Copyright (c) 2001 Michael David Adams.\\n\"\t  \"All rights reserved.\\n\"\t  );}\n",
      "static void\n",
      "cmdinfo()\n",
      "cmdinfo\n",
      "{\tfprintf(stderr, \"Image Information Utility (Version %s).\\n\",\t  JAS_VERSION);\tfprintf(stderr,\t  \"Copyright (c) 2001 Michael David Adams.\\n\"\t  \"All rights reserved.\\n\"\t  );}\n",
      "fprintf(stderr, \"Image Information Utility (Version %s).\\n\",\t  JAS_VERSION);\n",
      "fprintf(stderr, \"Image Information Utility (Version %s).\\n\",\t  JAS_VERSION)\n",
      "fprintf\n",
      "fprintf\n",
      "stderr\n",
      "stderr\n",
      "\"Image Information Utility (Version %s).\\n\"\n",
      "JAS_VERSION\n",
      "JAS_VERSION\n",
      "fprintf(stderr,\t  \"Copyright (c) 2001 Michael David Adams.\\n\"\t  \"All rights reserved.\\n\"\t  );\n",
      "fprintf(stderr,\t  \"Copyright (c) 2001 Michael David Adams.\\n\"\t  \"All rights reserved.\\n\"\t  )\n",
      "fprintf\n",
      "fprintf\n",
      "stderr\n",
      "stderr\n",
      "\"Copyright (c) 2001 Michael David Adams.\\n\"\t  \"All rights reserved.\\n\"\n",
      "-----joern-----\n",
      "(10,0,0)\n",
      "(5,1,0)\n",
      "(13,1,0)\n",
      "(9,6,0)\n",
      "(1,0,0)\n",
      "(4,0,0)\n",
      "(14,4,0)\n",
      "(3,7,0)\n",
      "(6,0,0)\n",
      "(2,6,0)\n",
      "(7,0,0)\n",
      "(12,1,0)\n",
      "(8,4,0)\n",
      "(3,4,1)\n",
      "(4,14,1)\n",
      "(1,13,1)\n",
      "(2,9,1)\n",
      "(13,12,1)\n",
      "(7,3,1)\n",
      "(12,5,1)\n",
      "(11,7,1)\n",
      "(5,6,1)\n",
      "(14,8,1)\n",
      "(6,2,1)\n",
      "(9,10,1)\n",
      "(8,1,1)\n",
      "-----------------------------------\n",
      "(0,)\n",
      "(1,fprintf(stderr,\"%s \", cmdname)\n",
      "(2,\"usage:\\\\n\")\n",
      "(3,EXIT_FAILURE)\n",
      "(4,fprintf(stderr, \"[-f image_file]\\\\n\")\n",
      "(5,stderr)\n",
      "(6,fprintf(stderr, \"usage:\\\\n\")\n",
      "(7,exit(EXIT_FAILURE)\n",
      "(8,stderr)\n",
      "(9,stderr)\n",
      "(10,cmdinfo()\n",
      "(11,RET)\n",
      "(12,\"%s \")\n",
      "(13,cmdname)\n",
      "(14,\"[-f image_file]\\\\n\")\n",
      "-----cfg-----\n",
      "(7,9)\n",
      "(9,13)\n",
      "(13,16)\n",
      "-----path-----\n",
      "7,9,13,16\n",
      "-----cfgNode-----\n",
      "5,<global>\n",
      "6,<empty>\n",
      "7,void cmdinfo ()\n",
      "8,<empty>\n",
      "9,fprintf(stderr, \"Image Information Utility (Version %s).\\n\",\n",
      "10,\t  JAS_VERSION)\n",
      "11,stderr\n",
      "12,\"Image Information Utility (Version %s).\\n\"\n",
      "13,JAS_VERSION\n",
      "14,fprintf(stderr,\n",
      "15,\t  \"Copyright (c) 2001 Michael David Adams.\\n\"\n",
      "16,\t  \"All rights reserved.\\n\"\n",
      "17,\t  )\n",
      "18,stderr\n",
      "19,\"Copyright (c) 2001 Michael David Adams.\\n\"\n",
      "20,\t  \"All rights reserved.\\n\"\n",
      "21,RET\n",
      "22,RET\n",
      "23,void cmdinfo ()\n",
      "24,<empty>\n",
      "25,fprintf(stderr, \"Image Information Utility (Version %s).\\n\",\n",
      "26,\t  JAS_VERSION)\n",
      "27,stderr\n",
      "28,\"Image Information Utility (Version %s).\\n\"\n",
      "29,JAS_VERSION\n",
      "30,fprintf(stderr,\n",
      "31,\t  \"Copyright (c) 2001 Michael David Adams.\\n\"\n",
      "32,\t  \"All rights reserved.\\n\"\n",
      "33,\t  )\n",
      "34,stderr\n",
      "35,\"Copyright (c) 2001 Michael David Adams.\\n\"\n",
      "36,\t  \"All rights reserved.\\n\"\n",
      "37,RET\n",
      "=====================================\n"
     ]
    }
   ],
   "source": [
    "#  Extract Program Information (To show static code information like sec 3.3.1.)\n",
    "ROOTPATH=\"/homee\"\n",
    "import os\n",
    "current=ROOTPATH\n",
    "projectPath=os.path.join(current,\"Evaluation/exampleProject/test1\")\n",
    "scriptPath=os.path.join(current,\"Evaluation/demo1/getStatic.sh\")\n",
    "!bash $scriptPath $projectPath"
   ]
  },
  {
   "cell_type": "code",
   "execution_count": 3,
   "metadata": {},
   "outputs": [
    {
     "name": "stdout",
     "output_type": "stream",
     "text": [
      " Pretraining the Representation Models......\n"
     ]
    },
    {
     "name": "stderr",
     "output_type": "stream",
     "text": [
      "dirs: 276it [00:03, 90.56it/s] \n"
     ]
    },
    {
     "name": "stdout",
     "output_type": "stream",
     "text": [
      "\n",
      "{'train_runtime': 41.4381, 'train_samples_per_second': 4.995, 'epoch': 3.0}\n",
      "\n",
      " Saving model checkpoint to /homee/concoction/pretrainedModel/staticRepresentation/trainedModel\n"
     ]
    }
   ],
   "source": [
    "#  Pretrain Representation Models (Here we use Graphcodebert like sec 3.4)\n",
    "from Evaluation.demo1.concoction import concoction\n",
    "path=os.path.join(ROOTPATH,'concoction/data/dataset')\n",
    "concoction.staticRepre(path)"
   ]
  },
  {
   "cell_type": "code",
   "execution_count": 4,
   "metadata": {},
   "outputs": [
    {
     "name": "stdout",
     "output_type": "stream",
     "text": [
      " Show the Trained Model(Static code Infomation Representation Model)\n",
      "code:\n",
      "return maximum value def max(a,b): if a>b: return a else return b\n",
      "embeddings:\n",
      "tensor([[[ 0.1754,  0.3331, -0.1164,  ..., -0.1947, -0.0989,  0.2439],\n",
      "         [ 0.5517, -0.0895,  0.5738,  ...,  0.2453,  0.7528, -0.0612],\n",
      "         [ 0.0321,  0.5738, -0.1051,  ...,  0.4737, -0.4283, -0.0198],\n",
      "         ...,\n",
      "         [ 0.2595,  0.3111,  0.6235,  ...,  0.7633,  0.5064, -0.2399],\n",
      "         [ 0.1580,  0.6947, -0.1427,  ...,  1.7891, -0.6057, -0.1192],\n",
      "         [ 0.1754,  0.3332, -0.1164,  ..., -0.1947, -0.0990,  0.2439]]],\n",
      "       grad_fn=<NativeLayerNormBackward>)\n",
      "\n"
     ]
    }
   ],
   "source": [
    "#  Show the Trained Model (like the example in https://github.com/microsoft/CodeBERT)\n",
    "ROOTPATH=\"/homee\"\n",
    "import os\n",
    "from Evaluation.demo1.concoction import concoction\n",
    "path=os.path.join(ROOTPATH,'concoction/data/dataset')\n",
    "concoction.showStaticRepre()"
   ]
  },
  {
   "cell_type": "markdown",
   "metadata": {},
   "source": [
    "\n",
    "#### *Dynamic representation model*:\n"
   ]
  },
  {
   "cell_type": "code",
   "execution_count": 1,
   "metadata": {
    "ExecuteTime": {
     "end_time": "2023-05-08T13:43:09.678393300Z",
     "start_time": "2023-05-08T13:43:09.665390300Z"
    },
    "scrolled": false
   },
   "outputs": [
    {
     "name": "stdout",
     "output_type": "stream",
     "text": [
      "static ffeature exisit\n",
      "==========================begin to prepare the dependency=============\n",
      "==========================succeed to prepare the dependency==========================\n",
      "==========================begin to insert the program=============\n",
      "==========================succeed to insert the program==========================\n",
      "==========================begin to compile the program=============\n",
      "==========================succeed to compile the program==========================\n",
      "==========================begin to klee the program=============\n",
      "==========================succeed to use klee==========================\n",
      "==========================extract dynamic feature and concate=============\n",
      "==========================succeed to concate==========================\n",
      "==========================cancate=============\n",
      "==========================get_compositeee.py endd==========================\n",
      "showing the dynamic code information of /homee/concoction/data/dataset0_dy/jas_cm.c-jas_clrspc_numchans.c.txt\n",
      "----------------dynamic----------------\n",
      "=======testcase========\n",
      "model_version:0x01000000\n",
      "A-data-stat:0xa20000000000000010101010101002100100000000000000a48100000000000000000000101010100000000000000000101010101010101000100000000000001010101010101010c5490a6500000000101010101010101099c4096500000000101010101010101099c40965000000001010101010101010101010101010101010101010101010101010101010101010\n",
      "A-data:0x503337230a0930230000000000000000000000000000000000000000000000000000000000000000000000000000000000000000000000000000000000000000000000000000000000000000000000000000000a230a31370c0c30303123000a0c000c23\n",
      "=========trace=========\n",
      "int jas_clrspc_numchans(int clrspc) {\n",
      "switch(jas_clrspc_fam(clrspc))\n",
      "return 3;\n",
      "======================="
     ]
    }
   ],
   "source": [
    "#  Extract Program Information (To show dynamic code information like sec 3.3.2.)\n",
    "import os\n",
    "ROOTPATH=\"/homee\"\n",
    "shell_file=os.path.join(ROOTPATH,'Evaluation/demo1/getDynamic.sh')\n",
    "project_path=os.path.join(ROOTPATH,'Evaluation/exampleProject/jasper-version-1.900.1')\n",
    "!sh $shell_file $project_path "
   ]
  },
  {
   "cell_type": "code",
   "execution_count": 6,
   "metadata": {},
   "outputs": [],
   "source": [
    "#  show dynamic code information"
   ]
  },
  {
   "cell_type": "code",
   "execution_count": 7,
   "metadata": {},
   "outputs": [
    {
     "name": "stdout",
     "output_type": "stream",
     "text": [
      " Preprocesing the data......\n"
     ]
    },
    {
     "name": "stderr",
     "output_type": "stream",
     "text": [
      "\r",
      "dirs: 0it [00:00, ?it/s]\r",
      "dirs: 0it [00:00, ?it/s]\n"
     ]
    },
    {
     "name": "stdout",
     "output_type": "stream",
     "text": [
      "Saving success\n",
      "\n",
      " Pretraining the Representation Models......\n",
      "\n",
      " Saving model checkpoint to /homee/concoction/pretrainedModel/dynamicRepresentation/trainedModel\n"
     ]
    }
   ],
   "source": [
    "#  Pretrain Representation Models (Here we use Simcse like sec 3.4)\n",
    "#preprocess\n",
    "ROOTPATH=\"/homee\"\n",
    "import os\n",
    "from Evaluation.demo1.concoction import concoction\n",
    "path=os.path.join(ROOTPATH,'concoction/data/test1')\n",
    "concoction.dynamicRepre(path)"
   ]
  },
  {
   "cell_type": "code",
   "execution_count": 8,
   "metadata": {},
   "outputs": [
    {
     "name": "stdout",
     "output_type": "stream",
     "text": [
      " Show the Trained Model(Dynamic code Infomation Representation Model)\n",
      "code:\n",
      "return maximum value def max(a,b): if a>b: return a else return b\n",
      "embeddings:\n",
      "tensor([[[-0.5703, -1.0246, -0.3897,  ..., -0.7287, -0.4726,  0.9084],\n",
      "         [-0.0643, -0.1703,  0.2327,  ..., -0.0604, -0.3340,  0.2383],\n",
      "         [-0.4101, -0.2475,  0.0554,  ..., -0.5917, -0.3134,  0.2552],\n",
      "         ...,\n",
      "         [-0.3825, -0.3133,  0.4725,  ..., -0.2311,  0.3169,  0.2711],\n",
      "         [ 0.2373,  0.0591,  1.0455,  ..., -0.1821, -0.9699,  0.1698],\n",
      "         [ 0.6703,  0.2020,  0.1332,  ..., -1.2445,  0.2533,  0.3259]]],\n",
      "       grad_fn=<NativeLayerNormBackward>)\n",
      "\n"
     ]
    }
   ],
   "source": [
    "#  Show the Trained Model (like the example in https://github.com/microsoft/CodeBERT)\n",
    "ROOTPATH=\"/homee\"\n",
    "import os\n",
    "from Evaluation.demo1.concoction import concoction\n",
    "path=os.path.join(ROOTPATH,'concoction/data/dataset')\n",
    "concoction.showDynamicRepre()"
   ]
  },
  {
   "cell_type": "markdown",
   "metadata": {},
   "source": [
    "\n",
    "\n",
    "## Step 2. Vulnerability Detection\n",
    "\n",
    " Concoction’s detection component takes the joint embedding as input to predict the presence of vulnerabilities.  Our current implementation only identifies whether a function may contain a vulnerability or bug and does not specify the type of vulnerability. Here we use SARD benchmarks.\n",
    "\n",
    "**approximate runtime ~ 30 minutes (please wait before moving to the next cell)**\n",
    "\n",
    "#### *Dynamic representation model*:\n"
   ]
  },
  {
   "cell_type": "code",
   "execution_count": 2,
   "metadata": {},
   "outputs": [
    {
     "name": "stdout",
     "output_type": "stream",
     "text": [
      "Training the detection Model...\n",
      "Load data from exist npy\n",
      "Computing embedding for train\n",
      "Computed train embeddings\n",
      "Computing embedding for dev\n",
      "Computed dev embeddings\n",
      "Computing embedding for test\n",
      "Computed test embeddings\n",
      "Training best: f1 = 0.8881118943903565, precision = 0.9694656729698181,recall = 0.8193548321723938,accuracy = 0.8853046594982079\n",
      "Training best: f1 = 0.8881118943903565, precision = 0.9694656729698181,recall = 0.8193548321723938,accuracy = 0.8853046594982079\n",
      "Training best: f1 = 0.8881118943903565, precision = 0.9694656729698181,recall = 0.8193548321723938,accuracy = 0.8853046594982079\n",
      "Training best: f1 = 0.8881118943903565, precision = 0.9694656729698181,recall = 0.8193548321723938,accuracy = 0.8853046594982079\n",
      "Validation : f1 = 0.8881118943903565, precision = 0.9694656729698181,recall = 0.8193548321723938,accuracy = 0.8853046594982079\n",
      "Training best: f1 = 0.8881118943903565, precision = 0.9694656729698181,recall = 0.8193548321723938,accuracy = 0.8853046594982079\n",
      "model clf saved to./f1_0.8881118943903565_2023-12-21.h5...\n",
      "Test : f1 = 0.8401487068813583, precision = 0.89682537317276,recall = 0.7902097702026367,accuracy = 0.8464285714285714\n",
      "\n"
     ]
    }
   ],
   "source": [
    "# Training the detection Model\n",
    "ROOTPATH=\"/homee\"\n",
    "import os\n",
    "from Evaluation.demo1.concoction import concoction\n",
    "concoction.trainDetectModel()"
   ]
  },
  {
   "cell_type": "code",
   "execution_count": 3,
   "metadata": {},
   "outputs": [
    {
     "name": "stdout",
     "output_type": "stream",
     "text": [
      "Show the Trained Model (Load trained model and test on test case)\n",
      "{'nhid': 2, 'optim': 'adam', 'batch_size': 64, 'tenacity': 5, 'epoch_size': 200}\n",
      "Load data from exist npy\n",
      "Computed data embeddings\n",
      "model load from/homee/Evaluation/ExperimentalEvaluation/Concoction/saved_models/github.h5\n",
      "prediction : f1 = 0.8715083573586397, precision = 0.8914285898208618,recall = 0.8524590134620667,accuracy = 0.8685714285714285\n",
      "\n"
     ]
    }
   ],
   "source": [
    "#  Show the Trained Model (Load trained model and test on test case)\n",
    "ROOTPATH=\"/homee\"\n",
    "import os\n",
    "from Evaluation.demo1.concoction import concoction\n",
    "path=os.path.join(ROOTPATH,'concoction/data/dataset')\n",
    "concoction.showDetectModel()"
   ]
  },
  {
   "cell_type": "markdown",
   "metadata": {},
   "source": [
    "## Step 3. Deployment\n",
    "\n",
    "This demo shows how to deploy our trained model on a real world project. Here we apply the xx as our test project.\n",
    "\n",
    "#### *Path Selection for Symbolic Execution*:\n",
    "After training the end-to-end model, we develop a path selection component to automatically select a subset of important paths whose dynamic traces are likely to improve prediction accuracy during deployment.\n",
    "\n",
    "*approximate runtime ~ 30 minutes*"
   ]
  },
  {
   "cell_type": "code",
   "execution_count": 11,
   "metadata": {
    "ExecuteTime": {
     "end_time": "2023-05-08T13:43:09.709400100Z",
     "start_time": "2023-05-08T13:43:09.695397900Z"
    }
   },
   "outputs": [
    {
     "name": "stdout",
     "output_type": "stream",
     "text": [
      "Extracting Execution path representation...\n"
     ]
    },
    {
     "name": "stderr",
     "output_type": "stream",
     "text": [
      "dirs: 11it [00:01,  5.81it/s]\n"
     ]
    },
    {
     "name": "stdout",
     "output_type": "stream",
     "text": [
      "preprocess data........\n",
      "Execution path representation stored in /homee/concoction/data/feature_path\n",
      "\n"
     ]
    }
   ],
   "source": [
    "# Execution path representation (shown as Sec. 3.6.1)\n",
    "ROOTPATH=\"/homee\"\n",
    "import os\n",
    "from Evaluation.demo1.concoction import concoction\n",
    "concoction.extractPathRepre()"
   ]
  },
  {
   "cell_type": "code",
   "execution_count": 12,
   "metadata": {},
   "outputs": [
    {
     "name": "stdout",
     "output_type": "stream",
     "text": [
      "Active learning for path selection...\n"
     ]
    },
    {
     "name": "stderr",
     "output_type": "stream",
     "text": [
      "100%|██████████| 11/11 [00:05<00:00,  1.88it/s]\n"
     ]
    },
    {
     "name": "stdout",
     "output_type": "stream",
     "text": [
      "Load Data....\n",
      "saved the select path to /homee/concoction/data/feature_path_text\n",
      "\n",
      "/homee/concoction/data/feature_path_text/jas_cm.c-jas_cmpxformseq_create.c.txt\n",
      "/homee/concoction/data/dataset0/jas_cm.c-jas_cmpxformseq_create.c.txt\n",
      "jas_cm.c-jas_cmpxformseq_create.c.txt\\' path nums: \n",
      "5\n",
      "selected path:\n",
      "jas_cm.c-jas_cmpxformseq_create.c.txt\n",
      "showing the code and the selected path of /homee/concoction/data/feature_path_text/jas_cm.c-jas_cmpxformseq_create.c.txt\n",
      "--------------filename--------------\n",
      "/homee/concoction/data/dataset0/jas_cm.c-jas_cmpxformseq_create.c.txt\n",
      "--------------code--------------\n",
      "static jas_cmpxformseq_t *jas_cmpxformseq_create()\n",
      "{\n",
      "\tjas_cmpxformseq_t *pxformseq;\n",
      "\tpxformseq = 0;\n",
      "\tif (!(pxformseq = jas_malloc(sizeof(jas_cmpxformseq_t))))\n",
      "\t\tgoto error;\n",
      "\tpxformseq->pxforms = 0;\n",
      "\tpxformseq->numpxforms = 0;\n",
      "\tpxformseq->maxpxforms = 0;\n",
      "\tif (jas_cmpxformseq_resize(pxformseq, 16))\n",
      "\t\tgoto error;\n",
      "\treturn pxformseq;\n",
      "error:\n",
      "\tif (pxformseq)\n",
      "\t\tjas_cmpxformseq_destroy(pxformseq);\n",
      "\treturn 0;\n",
      "}\n",
      "--------------path--------------\n",
      "jas_cmpxformseq_t jas_cmpxformseq_create ()\n",
      "pxformseq = 0\n",
      "sizeof(jas_cmpxformseq_t)\n",
      "jas_malloc(sizeof(jas_cmpxformseq_t))\n",
      "pxformseq = jas_malloc(sizeof(jas_cmpxformseq_t))\n",
      "!(pxformseq = jas_malloc(sizeof(jas_cmpxformseq_t)))\n",
      "pxformseq\n",
      "jas_cmpxformseq_destroy(pxformseq)\n",
      "return 0;\n",
      "--------------path over--------------\n",
      "--------------path--------------\n",
      "jas_cmpxformseq_t jas_cmpxformseq_create ()\n",
      "pxformseq = 0\n",
      "sizeof(jas_cmpxformseq_t)\n",
      "jas_malloc(sizeof(jas_cmpxformseq_t))\n",
      "pxformseq = jas_malloc(sizeof(jas_cmpxformseq_t))\n",
      "!(pxformseq = jas_malloc(sizeof(jas_cmpxformseq_t)))\n",
      "jas_cmpxformseq_destroy(pxformseq)\n",
      "return 0;\n",
      "--------------path over--------------\n",
      "--------------path--------------\n",
      "jas_cmpxformseq_t jas_cmpxformseq_create ()\n",
      "pxformseq = 0\n",
      "sizeof(jas_cmpxformseq_t)\n",
      "jas_malloc(sizeof(jas_cmpxformseq_t))\n",
      "pxformseq = jas_malloc(sizeof(jas_cmpxformseq_t))\n",
      "!(pxformseq = jas_malloc(sizeof(jas_cmpxformseq_t)))\n",
      "pxforms\n",
      "pxformseq->pxforms\n",
      "pxformseq->pxforms = 0\n",
      "numpxforms\n",
      "pxformseq->numpxforms\n",
      "pxformseq->numpxforms = 0\n",
      "maxpxforms\n",
      "pxformseq->maxpxforms\n",
      "pxformseq->maxpxforms = 0\n",
      "jas_cmpxformseq_resize(pxformseq 16)\n",
      "pxformseq\n",
      "jas_cmpxformseq_destroy(pxformseq)\n",
      "return 0;\n",
      "--------------path over--------------\n",
      "--------------path--------------\n",
      "jas_cmpxformseq_t jas_cmpxformseq_create ()\n",
      "pxformseq = 0\n",
      "sizeof(jas_cmpxformseq_t)\n",
      "jas_malloc(sizeof(jas_cmpxformseq_t))\n",
      "pxformseq = jas_malloc(sizeof(jas_cmpxformseq_t))\n",
      "!(pxformseq = jas_malloc(sizeof(jas_cmpxformseq_t)))\n",
      "pxforms\n",
      "pxformseq->pxforms\n",
      "pxformseq->pxforms = 0\n",
      "numpxforms\n",
      "pxformseq->numpxforms\n",
      "pxformseq->numpxforms = 0\n",
      "maxpxforms\n",
      "pxformseq->maxpxforms\n",
      "pxformseq->maxpxforms = 0\n",
      "jas_cmpxformseq_resize(pxformseq 16)\n",
      "jas_cmpxformseq_destroy(pxformseq)\n",
      "return 0;\n",
      "--------------path over--------------\n",
      "--------------path--------------\n",
      "jas_cmpxformseq_t jas_cmpxformseq_create ()\n",
      "pxformseq = 0\n",
      "sizeof(jas_cmpxformseq_t)\n",
      "jas_malloc(sizeof(jas_cmpxformseq_t))\n",
      "pxformseq = jas_malloc(sizeof(jas_cmpxformseq_t))\n",
      "!(pxformseq = jas_malloc(sizeof(jas_cmpxformseq_t)))\n",
      "pxforms\n",
      "pxformseq->pxforms\n",
      "pxformseq->pxforms = 0\n",
      "numpxforms\n",
      "pxformseq->numpxforms\n",
      "pxformseq->numpxforms = 0\n",
      "maxpxforms\n",
      "pxformseq->maxpxforms\n",
      "pxformseq->maxpxforms = 0\n",
      "jas_cmpxformseq_resize(pxformseq 16)\n",
      "return pxformseq;\n",
      "return 0;\n",
      "--------------path over--------------\n",
      "--------------filename--------------\n",
      "/homee/concoction/data/dataset0/jas_cm.c-jas_cmpxformseq_create.c.txt\n",
      "--------------code--------------\n",
      "static jas_cmpxformseq_t *jas_cmpxformseq_create()\n",
      "{\n",
      "\tjas_cmpxformseq_t *pxformseq;\n",
      "\tpxformseq = 0;\n",
      "\tif (!(pxformseq = jas_malloc(sizeof(jas_cmpxformseq_t))))\n",
      "\t\tgoto error;\n",
      "\tpxformseq->pxforms = 0;\n",
      "\tpxformseq->numpxforms = 0;\n",
      "\tpxformseq->maxpxforms = 0;\n",
      "\tif (jas_cmpxformseq_resize(pxformseq, 16))\n",
      "\t\tgoto error;\n",
      "\treturn pxformseq;\n",
      "error:\n",
      "\tif (pxformseq)\n",
      "\t\tjas_cmpxformseq_destroy(pxformseq);\n",
      "\treturn 0;\n",
      "}\n",
      "--------------path--------------\n",
      "jas_cmpxformseq_t jas_cmpxformseq_create ()\n",
      "pxformseq = 0\n",
      "sizeof(jas_cmpxformseq_t)\n",
      "jas_malloc(sizeof(jas_cmpxformseq_t))\n",
      "pxformseq = jas_malloc(sizeof(jas_cmpxformseq_t))\n",
      "!(pxformseq = jas_malloc(sizeof(jas_cmpxformseq_t)))\n",
      "pxformseq\n",
      "jas_cmpxformseq_destroy(pxformseq)\n",
      "return 0;\n",
      "--------------path over--------------\n",
      "--------------path--------------\n",
      "jas_cmpxformseq_t jas_cmpxformseq_create ()\n",
      "pxformseq = 0\n",
      "sizeof(jas_cmpxformseq_t)\n",
      "jas_malloc(sizeof(jas_cmpxformseq_t))\n",
      "pxformseq = jas_malloc(sizeof(jas_cmpxformseq_t))\n",
      "!(pxformseq = jas_malloc(sizeof(jas_cmpxformseq_t)))\n",
      "jas_cmpxformseq_destroy(pxformseq)\n",
      "return 0;\n",
      "--------------path over--------------\n",
      "--------------path--------------\n",
      "jas_cmpxformseq_t jas_cmpxformseq_create ()\n",
      "pxformseq = 0\n",
      "sizeof(jas_cmpxformseq_t)\n",
      "jas_malloc(sizeof(jas_cmpxformseq_t))\n",
      "pxformseq = jas_malloc(sizeof(jas_cmpxformseq_t))\n",
      "!(pxformseq = jas_malloc(sizeof(jas_cmpxformseq_t)))\n",
      "pxforms\n",
      "pxformseq->pxforms\n",
      "pxformseq->pxforms = 0\n",
      "numpxforms\n",
      "pxformseq->numpxforms\n",
      "pxformseq->numpxforms = 0\n",
      "maxpxforms\n",
      "pxformseq->maxpxforms\n",
      "pxformseq->maxpxforms = 0\n",
      "jas_cmpxformseq_resize(pxformseq 16)\n",
      "pxformseq\n",
      "jas_cmpxformseq_destroy(pxformseq)\n",
      "return 0;\n",
      "--------------path over--------------\n",
      "--------------path--------------\n",
      "jas_cmpxformseq_t jas_cmpxformseq_create ()\n",
      "pxformseq = 0\n",
      "sizeof(jas_cmpxformseq_t)\n",
      "jas_malloc(sizeof(jas_cmpxformseq_t))\n",
      "pxformseq = jas_malloc(sizeof(jas_cmpxformseq_t))\n",
      "!(pxformseq = jas_malloc(sizeof(jas_cmpxformseq_t)))\n",
      "pxforms\n",
      "pxformseq->pxforms\n",
      "pxformseq->pxforms = 0\n",
      "numpxforms\n",
      "pxformseq->numpxforms\n",
      "pxformseq->numpxforms = 0\n",
      "maxpxforms\n",
      "pxformseq->maxpxforms\n",
      "pxformseq->maxpxforms = 0\n",
      "jas_cmpxformseq_resize(pxformseq 16)\n",
      "jas_cmpxformseq_destroy(pxformseq)\n",
      "return 0;\n",
      "--------------path over--------------\n",
      "--------------path--------------\n",
      "jas_cmpxformseq_t jas_cmpxformseq_create ()\n",
      "pxformseq = 0\n",
      "sizeof(jas_cmpxformseq_t)\n",
      "jas_malloc(sizeof(jas_cmpxformseq_t))\n",
      "pxformseq = jas_malloc(sizeof(jas_cmpxformseq_t))\n",
      "!(pxformseq = jas_malloc(sizeof(jas_cmpxformseq_t)))\n",
      "pxforms\n",
      "pxformseq->pxforms\n",
      "pxformseq->pxforms = 0\n",
      "numpxforms\n",
      "pxformseq->numpxforms\n",
      "pxformseq->numpxforms = 0\n",
      "maxpxforms\n",
      "pxformseq->maxpxforms\n",
      "pxformseq->maxpxforms = 0\n",
      "jas_cmpxformseq_resize(pxformseq 16)\n",
      "return pxformseq;\n",
      "return 0;\n",
      "--------------path over--------------\n",
      "\n"
     ]
    }
   ],
   "source": [
    "# Active learning for path selection (Sec. 3.6.2)\n",
    "#data preprocess\n",
    "\n",
    "ROOTPATH=\"/homee\"\n",
    "import os\n",
    "from Evaluation.demo1.concoction import concoction\n",
    "concoction.pathSelect()"
   ]
  },
  {
   "cell_type": "code",
   "execution_count": 13,
   "metadata": {},
   "outputs": [
    {
     "name": "stdout",
     "output_type": "stream",
     "text": [
      "Symbolic execution for chosen paths...\n",
      "Execution results stored in the /homee/concoction/data/feature_result\n",
      "\n"
     ]
    }
   ],
   "source": [
    "# Symbolic execution for chosen paths (Sec. 3.6.3)\n",
    "ROOTPATH=\"/homee\"\n",
    "import os\n",
    "from Evaluation.demo1.concoction import concoction\n",
    "concoction.symbolicOnPath()"
   ]
  },
  {
   "cell_type": "markdown",
   "metadata": {},
   "source": [
    "#### *Fuzzing for Test Case Generation*:\n",
    "\n",
    " We use fuzzing techniques to generate test cases for functions predicted to contain potential vulnerabilities, aiming to automate the testing process and minimize the need for manual inspection."
   ]
  },
  {
   "cell_type": "code",
   "execution_count": 14,
   "metadata": {
    "ExecuteTime": {
     "end_time": "2023-05-08T13:43:09.727404100Z",
     "start_time": "2023-05-08T13:43:09.711400500Z"
    }
   },
   "outputs": [],
   "source": [
    "# Utilizing AFL++ To Objective project (Shown as Sec. 3.7)"
   ]
  },
  {
   "cell_type": "markdown",
   "metadata": {},
   "source": [
    "## Demo 2: Experimental Evaluation\n",
    "\n",
    "Here, we provide a small-sized evaluation to showcase the working mechanism of Concoction bug detection. A full-scale evaluation, which takes more than a day to run, is provided through the Docker image (with detailed instructions on our project Github).\n",
    "\n",
    "### Large-scale Testing (Section 5.1)\n",
    "\n",
    " This part (add a web link) gives a quantified summary of Concoction for detecting function-level code vulnerabilities across the 20 projects listed in Table 1 in our papaer.\n",
    "\n",
    "This demo corresponds to Table 5 of the submitted manuscript.\n"
   ]
  },
  {
   "cell_type": "markdown",
   "metadata": {},
   "source": [
    "### Evaluation on Open Dataset (Section  5.2)\n",
    "\n",
    "We now evaluate our vulnerability detection model on the SARD and CVE datasets in Table 2 in paper.\n",
    "\n",
    "This demo corresponds to Figure 9 and 10 of the submitted manuscript.\n",
    "\n",
    "*approximate runtime = 10 minutes for one benchmark*\n",
    "\n",
    "#### *Sard Dataset*:\n"
   ]
  },
  {
   "cell_type": "code",
   "execution_count": 1,
   "metadata": {
    "ExecuteTime": {
     "end_time": "2023-05-08T13:43:09.740861300Z",
     "start_time": "2023-05-08T13:43:09.725404Z"
    },
    "scrolled": false
   },
   "outputs": [
    {
     "name": "stdout",
     "output_type": "stream",
     "text": [
      "method:linvul\n",
      "load_saved_model:/homee/Evaluation/ExperimentalEvaluation/lineVul/linevul/saved_modelss/cwe416.h5\n",
      "dataDir:/homee/Evaluation/ExperimentalEvaluation/data/sard/cwe416_test\n",
      "/root/anaconda3/envs/Linevul/bin/python linevul_main.py --data_file '/homee/Evaluation/ExperimentalEvaluation/data/sard/cwe416_test' --evaluate_during_training  --do_pre --model_name /homee/Evaluation/ExperimentalEvaluation/lineVul/linevul/saved_modelss/cwe416.h5 >run.log  2>&1\n",
      "\n",
      "['acc' 'pre' 'recall' 'f1']\n",
      "[1. 1. 1. 1.]\n"
     ]
    },
    {
     "data": {
      "image/png": "[encoded data removed]",
      "text/plain": [
       "<Figure size 640x480 with 1 Axes>"
      ]
     },
     "metadata": {},
     "output_type": "display_data"
    },
    {
     "name": "stdout",
     "output_type": "stream",
     "text": [
      "method:vuldeepecker\n",
      "load_saved_model:/homee/Evaluation/ExperimentalEvaluation/vuldeepker/saved_models/cwe416.h5\n",
      "dataDir:/homee/Evaluation/ExperimentalEvaluation/data/sard/cwe416_test\n"
     ]
    },
    {
     "ename": "KeyboardInterrupt",
     "evalue": "",
     "output_type": "error",
     "traceback": [
      "\u001b[0;31m---------------------------------------------------------------------------\u001b[0m",
      "\u001b[0;31mKeyboardInterrupt\u001b[0m                         Traceback (most recent call last)",
      "\u001b[0;32m/tmp/ipykernel_7827/3862080219.py\u001b[0m in \u001b[0;36m<module>\u001b[0;34m\u001b[0m\n\u001b[1;32m      7\u001b[0m \u001b[0;31m# EvaluationSard(\"CWE-416\",\"Liger\").run()\u001b[0m\u001b[0;34m\u001b[0m\u001b[0;34m\u001b[0m\u001b[0m\n\u001b[1;32m      8\u001b[0m \u001b[0mEvaluationSard\u001b[0m\u001b[0;34m(\u001b[0m\u001b[0;34m\"CWE-416\"\u001b[0m\u001b[0;34m,\u001b[0m\u001b[0;34m\"LineVul\"\u001b[0m\u001b[0;34m)\u001b[0m\u001b[0;34m.\u001b[0m\u001b[0mrun\u001b[0m\u001b[0;34m(\u001b[0m\u001b[0;34m)\u001b[0m\u001b[0;34m\u001b[0m\u001b[0;34m\u001b[0m\u001b[0m\n\u001b[0;32m----> 9\u001b[0;31m \u001b[0mEvaluationSard\u001b[0m\u001b[0;34m(\u001b[0m\u001b[0;34m\"CWE-416\"\u001b[0m\u001b[0;34m,\u001b[0m\u001b[0;34m\"vuldeepecker\"\u001b[0m\u001b[0;34m)\u001b[0m\u001b[0;34m.\u001b[0m\u001b[0mrun\u001b[0m\u001b[0;34m(\u001b[0m\u001b[0;34m)\u001b[0m\u001b[0;34m\u001b[0m\u001b[0;34m\u001b[0m\u001b[0m\n\u001b[0m\u001b[1;32m     10\u001b[0m \u001b[0mEvaluationSard\u001b[0m\u001b[0;34m(\u001b[0m\u001b[0;34m\"CWE-416\"\u001b[0m\u001b[0;34m,\u001b[0m\u001b[0;34m\"TDSC\"\u001b[0m\u001b[0;34m)\u001b[0m\u001b[0;34m.\u001b[0m\u001b[0mrun\u001b[0m\u001b[0;34m(\u001b[0m\u001b[0;34m)\u001b[0m\u001b[0;34m\u001b[0m\u001b[0;34m\u001b[0m\u001b[0m\n",
      "\u001b[0;32m/homee/Evaluation/demo2/demo2.py\u001b[0m in \u001b[0;36mrun\u001b[0;34m(self)\u001b[0m\n\u001b[1;32m    122\u001b[0m                 \u001b[0mself\u001b[0m\u001b[0;34m.\u001b[0m\u001b[0mTDSC_run\u001b[0m\u001b[0;34m(\u001b[0m\u001b[0;34m)\u001b[0m\u001b[0;34m\u001b[0m\u001b[0;34m\u001b[0m\u001b[0m\n\u001b[1;32m    123\u001b[0m             \u001b[0;32mif\u001b[0m \u001b[0mself\u001b[0m\u001b[0;34m.\u001b[0m\u001b[0mmethod\u001b[0m\u001b[0;34m==\u001b[0m\u001b[0;34m\"vuldeepecker\"\u001b[0m\u001b[0;34m:\u001b[0m\u001b[0;34m\u001b[0m\u001b[0;34m\u001b[0m\u001b[0m\n\u001b[0;32m--> 124\u001b[0;31m                 \u001b[0mself\u001b[0m\u001b[0;34m.\u001b[0m\u001b[0mvuldeepecker_run\u001b[0m\u001b[0;34m(\u001b[0m\u001b[0;34m)\u001b[0m\u001b[0;34m\u001b[0m\u001b[0;34m\u001b[0m\u001b[0m\n\u001b[0m\u001b[1;32m    125\u001b[0m             \u001b[0;32mif\u001b[0m \u001b[0mself\u001b[0m\u001b[0;34m.\u001b[0m\u001b[0mmethod\u001b[0m\u001b[0;34m==\u001b[0m\u001b[0;34m\"concoction\"\u001b[0m\u001b[0;34m:\u001b[0m\u001b[0;34m\u001b[0m\u001b[0;34m\u001b[0m\u001b[0m\n\u001b[1;32m    126\u001b[0m                 \u001b[0mself\u001b[0m\u001b[0;34m.\u001b[0m\u001b[0mconcoction_run\u001b[0m\u001b[0;34m(\u001b[0m\u001b[0;34m)\u001b[0m\u001b[0;34m\u001b[0m\u001b[0;34m\u001b[0m\u001b[0m\n",
      "\u001b[0;32m/homee/Evaluation/demo2/demo2.py\u001b[0m in \u001b[0;36mvuldeepecker_run\u001b[0;34m(self)\u001b[0m\n\u001b[1;32m     57\u001b[0m         \u001b[0mload_saved_model\u001b[0m\u001b[0;34m=\u001b[0m\u001b[0mos\u001b[0m\u001b[0;34m.\u001b[0m\u001b[0mpath\u001b[0m\u001b[0;34m.\u001b[0m\u001b[0mjoin\u001b[0m\u001b[0;34m(\u001b[0m\u001b[0mExperimentalEvaluation\u001b[0m\u001b[0;34m,\u001b[0m\u001b[0;34m\"vuldeepker/saved_models/\"\u001b[0m\u001b[0;34m+\u001b[0m\u001b[0mself\u001b[0m\u001b[0;34m.\u001b[0m\u001b[0mcwetype\u001b[0m\u001b[0;34m+\u001b[0m\u001b[0;34m\".h5\"\u001b[0m\u001b[0;34m)\u001b[0m\u001b[0;34m\u001b[0m\u001b[0;34m\u001b[0m\u001b[0m\n\u001b[1;32m     58\u001b[0m         \u001b[0mprint\u001b[0m\u001b[0;34m(\u001b[0m\u001b[0;34mf\"method:vuldeepecker\\nload_saved_model:{load_saved_model}\\ndataDir:{self.dataDir}\"\u001b[0m\u001b[0;34m)\u001b[0m\u001b[0;34m\u001b[0m\u001b[0;34m\u001b[0m\u001b[0m\n\u001b[0;32m---> 59\u001b[0;31m         \u001b[0mvuldeepecker\u001b[0m\u001b[0;34m(\u001b[0m\u001b[0mself\u001b[0m\u001b[0;34m.\u001b[0m\u001b[0mdataDir\u001b[0m\u001b[0;34m,\u001b[0m\u001b[0mload_saved_model\u001b[0m\u001b[0;34m)\u001b[0m\u001b[0;34m.\u001b[0m\u001b[0mrun\u001b[0m\u001b[0;34m(\u001b[0m\u001b[0;34m)\u001b[0m\u001b[0;34m\u001b[0m\u001b[0;34m\u001b[0m\u001b[0m\n\u001b[0m\u001b[1;32m     60\u001b[0m     \u001b[0;32mdef\u001b[0m \u001b[0mconcoction_run\u001b[0m\u001b[0;34m(\u001b[0m\u001b[0mself\u001b[0m\u001b[0;34m)\u001b[0m\u001b[0;34m:\u001b[0m\u001b[0;34m\u001b[0m\u001b[0;34m\u001b[0m\u001b[0m\n\u001b[1;32m     61\u001b[0m         \u001b[0mload_saved_model\u001b[0m\u001b[0;34m=\u001b[0m\u001b[0mos\u001b[0m\u001b[0;34m.\u001b[0m\u001b[0mpath\u001b[0m\u001b[0;34m.\u001b[0m\u001b[0mjoin\u001b[0m\u001b[0;34m(\u001b[0m\u001b[0mExperimentalEvaluation\u001b[0m\u001b[0;34m,\u001b[0m\u001b[0;34m\"Concoction/saved_models/\"\u001b[0m\u001b[0;34m+\u001b[0m\u001b[0mself\u001b[0m\u001b[0;34m.\u001b[0m\u001b[0mcwetype\u001b[0m\u001b[0;34m+\u001b[0m\u001b[0;34m\".h5\"\u001b[0m\u001b[0;34m)\u001b[0m\u001b[0;34m\u001b[0m\u001b[0;34m\u001b[0m\u001b[0m\n",
      "\u001b[0;32m/homee/Evaluation/demo2/model/vuldeepecker.py\u001b[0m in \u001b[0;36mrun\u001b[0;34m(self)\u001b[0m\n\u001b[1;32m     42\u001b[0m         \u001b[0mscriptPath\u001b[0m\u001b[0;34m=\u001b[0m\u001b[0;34m\"vuldeepecker.py\"\u001b[0m\u001b[0;34m\u001b[0m\u001b[0;34m\u001b[0m\u001b[0m\n\u001b[1;32m     43\u001b[0m         \u001b[0mcmd\u001b[0m\u001b[0;34m=\u001b[0m\u001b[0;34m\"/root/anaconda3/envs/vuldeepecker1/bin/python \"\u001b[0m\u001b[0;34m+\u001b[0m\u001b[0mscriptPath\u001b[0m\u001b[0;34m+\u001b[0m\u001b[0;34m\" --data_path \\'\"\u001b[0m\u001b[0;34m+\u001b[0m\u001b[0mself\u001b[0m\u001b[0;34m.\u001b[0m\u001b[0mdataDir\u001b[0m\u001b[0;34m+\u001b[0m\u001b[0;34m\"\\' --mode pre --model_to_load \"\u001b[0m\u001b[0;34m+\u001b[0m\u001b[0mself\u001b[0m\u001b[0;34m.\u001b[0m\u001b[0mload_saved_model\u001b[0m\u001b[0;34m+\u001b[0m\u001b[0;34m\" >run.log  2>&1\"\u001b[0m\u001b[0;34m\u001b[0m\u001b[0;34m\u001b[0m\u001b[0m\n\u001b[0;32m---> 44\u001b[0;31m         \u001b[0mexecute_shell_script\u001b[0m\u001b[0;34m(\u001b[0m\u001b[0mcmd\u001b[0m\u001b[0;34m)\u001b[0m\u001b[0;34m\u001b[0m\u001b[0;34m\u001b[0m\u001b[0m\n\u001b[0m\u001b[1;32m     45\u001b[0m \u001b[0;34m\u001b[0m\u001b[0m\n\u001b[1;32m     46\u001b[0m         \u001b[0mlog\u001b[0m\u001b[0;34m=\u001b[0m\u001b[0mExperimentalEvaluation\u001b[0m\u001b[0;34m+\u001b[0m\u001b[0;34m\"/vuldeepker/result.log\"\u001b[0m\u001b[0;34m\u001b[0m\u001b[0;34m\u001b[0m\u001b[0m\n",
      "\u001b[0;32m/homee/Evaluation/demo2/model/vuldeepecker.py\u001b[0m in \u001b[0;36mexecute_shell_script\u001b[0;34m(cmd)\u001b[0m\n\u001b[1;32m     29\u001b[0m \u001b[0;34m\u001b[0m\u001b[0m\n\u001b[1;32m     30\u001b[0m     \u001b[0mp\u001b[0m \u001b[0;34m=\u001b[0m \u001b[0msubprocess\u001b[0m\u001b[0;34m.\u001b[0m\u001b[0mPopen\u001b[0m\u001b[0;34m(\u001b[0m\u001b[0mcmd\u001b[0m\u001b[0;34m,\u001b[0m\u001b[0mshell\u001b[0m\u001b[0;34m=\u001b[0m\u001b[0;32mTrue\u001b[0m\u001b[0;34m,\u001b[0m\u001b[0mstdout\u001b[0m\u001b[0;34m=\u001b[0m\u001b[0msubprocess\u001b[0m\u001b[0;34m.\u001b[0m\u001b[0mPIPE\u001b[0m\u001b[0;34m)\u001b[0m\u001b[0;34m\u001b[0m\u001b[0;34m\u001b[0m\u001b[0m\n\u001b[0;32m---> 31\u001b[0;31m     \u001b[0mstdout_data\u001b[0m\u001b[0;34m,\u001b[0m \u001b[0mstderr_data\u001b[0m\u001b[0;34m=\u001b[0m\u001b[0mp\u001b[0m\u001b[0;34m.\u001b[0m\u001b[0mcommunicate\u001b[0m\u001b[0;34m(\u001b[0m\u001b[0;34m)\u001b[0m\u001b[0;34m\u001b[0m\u001b[0;34m\u001b[0m\u001b[0m\n\u001b[0m\u001b[1;32m     32\u001b[0m     \u001b[0mprint\u001b[0m\u001b[0;34m(\u001b[0m\u001b[0mstdout_data\u001b[0m\u001b[0;34m.\u001b[0m\u001b[0mdecode\u001b[0m\u001b[0;34m(\u001b[0m\u001b[0;34m'utf-8'\u001b[0m\u001b[0;34m)\u001b[0m\u001b[0;34m)\u001b[0m\u001b[0;34m\u001b[0m\u001b[0;34m\u001b[0m\u001b[0m\n\u001b[1;32m     33\u001b[0m \u001b[0;34m\u001b[0m\u001b[0m\n",
      "\u001b[0;32m~/anaconda3/lib/python3.9/subprocess.py\u001b[0m in \u001b[0;36mcommunicate\u001b[0;34m(self, input, timeout)\u001b[0m\n\u001b[1;32m   1119\u001b[0m                 \u001b[0mself\u001b[0m\u001b[0;34m.\u001b[0m\u001b[0m_stdin_write\u001b[0m\u001b[0;34m(\u001b[0m\u001b[0minput\u001b[0m\u001b[0;34m)\u001b[0m\u001b[0;34m\u001b[0m\u001b[0;34m\u001b[0m\u001b[0m\n\u001b[1;32m   1120\u001b[0m             \u001b[0;32melif\u001b[0m \u001b[0mself\u001b[0m\u001b[0;34m.\u001b[0m\u001b[0mstdout\u001b[0m\u001b[0;34m:\u001b[0m\u001b[0;34m\u001b[0m\u001b[0;34m\u001b[0m\u001b[0m\n\u001b[0;32m-> 1121\u001b[0;31m                 \u001b[0mstdout\u001b[0m \u001b[0;34m=\u001b[0m \u001b[0mself\u001b[0m\u001b[0;34m.\u001b[0m\u001b[0mstdout\u001b[0m\u001b[0;34m.\u001b[0m\u001b[0mread\u001b[0m\u001b[0;34m(\u001b[0m\u001b[0;34m)\u001b[0m\u001b[0;34m\u001b[0m\u001b[0;34m\u001b[0m\u001b[0m\n\u001b[0m\u001b[1;32m   1122\u001b[0m                 \u001b[0mself\u001b[0m\u001b[0;34m.\u001b[0m\u001b[0mstdout\u001b[0m\u001b[0;34m.\u001b[0m\u001b[0mclose\u001b[0m\u001b[0;34m(\u001b[0m\u001b[0;34m)\u001b[0m\u001b[0;34m\u001b[0m\u001b[0;34m\u001b[0m\u001b[0m\n\u001b[1;32m   1123\u001b[0m             \u001b[0;32melif\u001b[0m \u001b[0mself\u001b[0m\u001b[0;34m.\u001b[0m\u001b[0mstderr\u001b[0m\u001b[0;34m:\u001b[0m\u001b[0;34m\u001b[0m\u001b[0;34m\u001b[0m\u001b[0m\n",
      "\u001b[0;31mKeyboardInterrupt\u001b[0m: "
     ]
    }
   ],
   "source": [
    "# Prepare the dataset and preprocess (use parameter to change CWE type and method,\n",
    "#                                     like FUN A( dataset = 'CWE-123', method = 'Vuldeepecker' ))\n",
    "%matplotlib inline\n",
    "from Evaluation.demo2.demo2 import *\n",
    "# Train and test.\n",
    "# EvaluationSard(\"CWE-416\",\"concoction\").run()\n",
    "# EvaluationSard(\"CWE-416\",\"Liger\").run()\n",
    "EvaluationSard(\"CWE-416\",\"LineVul\").run()\n",
    "EvaluationSard(\"CWE-416\",\"vuldeepecker\").run()\n",
    "EvaluationSard(\"CWE-416\",\"TDSC\").run()"
   ]
  },
  {
   "cell_type": "markdown",
   "metadata": {},
   "source": [
    "#### *Github Dataset*:\n"
   ]
  },
  {
   "cell_type": "code",
   "execution_count": 2,
   "metadata": {
    "ExecuteTime": {
     "end_time": "2023-05-08T13:43:09.758882900Z",
     "start_time": "2023-05-08T13:43:09.741861500Z"
    }
   },
   "outputs": [
    {
     "name": "stdout",
     "output_type": "stream",
     "text": [
      "method:vuldeepecker\n",
      "load_saved_model:/homee/Evaluation/ExperimentalEvaluation/vuldeepker/saved_models/github.h5\n",
      "dataDir:/homee/Evaluation/ExperimentalEvaluation/data/github_0.6_new/test\n",
      "\n",
      "['acc' 'pre' 'recall' 'f1']\n",
      "[0.60857143 0.63372093 0.59562842 0.61408451]\n"
     ]
    },
    {
     "data": {
      "image/png": "[encoded data removed]",
      "text/plain": [
       "<Figure size 640x480 with 1 Axes>"
      ]
     },
     "metadata": {},
     "output_type": "display_data"
    },
    {
     "name": "stdout",
     "output_type": "stream",
     "text": [
      "method:vuldeepecker\n",
      "load_saved_model:/homee/Evaluation/ExperimentalEvaluation/TDSC/saved_models/github.h5\n",
      "dataDir:/homee/Evaluation/ExperimentalEvaluation/data/github_0.6_new/test\n",
      "/root/anaconda3/envs/vuldeepecker1/bin/python TDSC.py --data_path '/homee/Evaluation/ExperimentalEvaluation/data/github_0.6_new/test' --mode pre --model_to_load /homee/Evaluation/ExperimentalEvaluation/TDSC/saved_models/github.h5 >run.log  2>&1\n",
      "\n",
      "['acc' 'pre' 'recall' 'f1']\n",
      "[0.73714286 0.72195122 0.80874317 0.7628866 ]\n"
     ]
    },
    {
     "data": {
      "image/png": "[encoded data removed]",
      "text/plain": [
       "<Figure size 640x480 with 1 Axes>"
      ]
     },
     "metadata": {},
     "output_type": "display_data"
    },
    {
     "name": "stdout",
     "output_type": "stream",
     "text": [
      "method:vuldeepecker\n",
      "load_saved_model:/homee/Evaluation/ExperimentalEvaluation/Concoction/saved_models/github.h5\n",
      "dataDir:/homee/Evaluation/ExperimentalEvaluation/data/github_0.6_new/test\n",
      "/root/anaconda3/envs/pytorch1.7.1/bin/python evaluation_bug.py --path_to_data '/homee/Evaluation/ExperimentalEvaluation/data/github_0.6_new/test' --mode test --model_to_load /homee/Evaluation/ExperimentalEvaluation/Concoction/saved_models/github.h5 >run.log  2>&1\n",
      "\n",
      "['acc' 'pre' 'recall' 'f1']\n",
      "[0.86857143 0.89142859 0.85245901 0.87150836]\n"
     ]
    },
    {
     "data": {
      "image/png": "[encoded data removed]",
      "text/plain": [
       "<Figure size 640x480 with 1 Axes>"
      ]
     },
     "metadata": {},
     "output_type": "display_data"
    },
    {
     "name": "stdout",
     "output_type": "stream",
     "text": [
      "method:vuldeepecker\n",
      "load_saved_model:/homee/Evaluation/ExperimentalEvaluation/lineVul/linevul/saved_modelss/0.727699530516432_123456_1.h5\n",
      "dataDir:/homee/Evaluation/ExperimentalEvaluation/data/github_0.6_new/test\n",
      "/root/anaconda3/envs/Linevul/bin/python linevul_main.py --data_file '/homee/Evaluation/ExperimentalEvaluation/data/github_0.6_new/test' --evaluate_during_training  --do_pre --model_name /homee/Evaluation/ExperimentalEvaluation/lineVul/linevul/saved_modelss/0.727699530516432_123456_1.h5 >run.log  2>&1\n",
      "\n",
      "['acc' 'pre' 'recall' 'f1']\n",
      "[0.54       0.53197674 1.         0.69449715]\n"
     ]
    },
    {
     "data": {
      "image/png": "[encoded data removed]",
      "text/plain": [
       "<Figure size 640x480 with 1 Axes>"
      ]
     },
     "metadata": {},
     "output_type": "display_data"
    }
   ],
   "source": [
    "from Evaluation.demo2.demo2 import *\n",
    "EvaluationGithub(\"Github\",\"vuldeepecker\").run()\n",
    "EvaluationGithub(\"Github\",\"TDSC\").run()\n",
    "EvaluationGithub(\"Github\",\"concoction\").run()\n",
    "EvaluationGithub(\"Github\",\"Liger\").run()\n",
    "EvaluationGithub(\"Github\",\"LineVul\").run()"
   ]
  },
  {
   "cell_type": "code",
   "execution_count": 3,
   "metadata": {},
   "outputs": [
    {
     "name": "stdout",
     "output_type": "stream",
     "text": [
      "method:reveal\n",
      "load_saved_model:/homee/Evaluation/ExperimentalEvaluation/new_Reveal/DynamicBugDetection-Reveal/modles/test-checkpoint/78.87323943661973.pkl\n",
      "dataDir:/homee/Evaluation/ExperimentalEvaluation/data/github_0.6_new/test\n"
     ]
    },
    {
     "data": {
      "image/png": "[encoded data removed]",
      "text/plain": [
       "<Figure size 640x480 with 1 Axes>"
      ]
     },
     "metadata": {},
     "output_type": "display_data"
    }
   ],
   "source": [
    "#Reveal 画图\n",
    "%matplotlib inline\n",
    "from Evaluation.demo2.demo2 import *\n",
    "\n",
    "EvaluationGithub(\"Github\",\"reveal\").run()"
   ]
  },
  {
   "cell_type": "markdown",
   "metadata": {},
   "source": [
    "\n",
    "#### Full-scale evaluation data\n",
    "\n",
    "We now plot the diagrams using full-scale evaluation data (it would take too long to run the experiment lively). The results correspond to Figure 9 and 10 (Section 5.2) of the submitted manuscript."
   ]
  },
  {
   "cell_type": "code",
   "execution_count": 19,
   "metadata": {
    "ExecuteTime": {
     "end_time": "2023-05-08T13:43:09.772886Z",
     "start_time": "2023-05-08T13:43:09.757882600Z"
    }
   },
   "outputs": [],
   "source": [
    "# Output Figure 9: Evaluation on standard vulnerability databases. Min-max bars show performance across vulnerability types.\n",
    "# Output Figure 10:  Evaluation on the CVE dataset Concoction gives the best performance across evaluation metrics."
   ]
  },
  {
   "cell_type": "markdown",
   "metadata": {},
   "source": [
    "### Case Study 3:  Evaluation on Opensource Projects (Section 5.3)\n",
    "\n",
    "We now compare to the baseline methods by applying them to the three open-source projects in Table 3 with a total of 35 CVEs reported by independent users.\n",
    "\n",
    "This demo corresponds to Figure 11 of the submitted manuscript.\n",
    "\n",
    "*approximate runtime = xx minutes for one benchmark*\n",
    "\n",
    "### Client RL Deployment Demo\n",
    "\n",
    "This demo shows how to apply the saved client RL to optimize a test program for Code Size Reduction. \n",
    "\n",
    "*approximate runtime ~ 15 minutes*\n",
    "\n",
    "#### Performance evaluation on benchmarks\n",
    "Benchmarks: Sqlite, Libtiff, Libpng.\n",
    "*approximate runtime ~ 20 minutes*"
   ]
  },
  {
   "cell_type": "code",
   "execution_count": 20,
   "metadata": {
    "ExecuteTime": {
     "end_time": "2023-05-08T13:43:09.790890100Z",
     "start_time": "2023-05-08T13:43:09.773886200Z"
    }
   },
   "outputs": [],
   "source": [
    "# Load model and test benchmarks (Input benchmark and method like FUN A( project = 'Sqlite', method = 'Concoction')."
   ]
  },
  {
   "cell_type": "markdown",
   "metadata": {},
   "source": [
    "#### Full-scale evaluation data\n",
    "We now generate the table using full-scale evaluation data (it would take too long to run the experiment lively). The results correspond to Figure 11 (Section 5.3) of the submitted manuscript."
   ]
  },
  {
   "cell_type": "code",
   "execution_count": 21,
   "metadata": {
    "ExecuteTime": {
     "end_time": "2023-05-08T13:43:09.804893200Z",
     "start_time": "2023-05-08T13:43:09.788889500Z"
    }
   },
   "outputs": [],
   "source": [
    "# Output Figure 11: The number of vulnerabilities identified Concoction and other methods for open-source projects in Table 3."
   ]
  },
  {
   "cell_type": "markdown",
   "metadata": {},
   "source": [
    "### Further Analysis (Alternative)\n",
    "\n",
    "####  DL model implementation choices.\n",
    "\n",
    "we evaluate several variants of Concoction on the CVE dataset.\n",
    "\n",
    "This demo corresponds to Figure 12 of the submitted manuscript.\n",
    "\n",
    "*approximate runtime = xx minutes for one benchmark*"
   ]
  },
  {
   "cell_type": "code",
   "execution_count": 22,
   "metadata": {
    "ExecuteTime": {
     "end_time": "2023-05-08T13:43:09.822897400Z",
     "start_time": "2023-05-08T13:43:09.805893300Z"
    }
   },
   "outputs": [],
   "source": [
    "# Load model and test CVE benchmarks (Input method like FUN A( method = 'Static')."
   ]
  },
  {
   "cell_type": "markdown",
   "metadata": {},
   "source": [
    "#### Full-scale evaluation data\n",
    "We now generate the figure using full-scale evaluation data (it would take too long to run the experiment lively). The results correspond to Figure 12 (Section 5.4) of the submitted manuscript.\n"
   ]
  },
  {
   "cell_type": "code",
   "execution_count": 23,
   "metadata": {
    "ExecuteTime": {
     "end_time": "2023-05-08T13:43:09.835900200Z",
     "start_time": "2023-05-08T13:43:09.819896400Z"
    }
   },
   "outputs": [],
   "source": [
    "# Output Figure 12:  Comparing implementation variants of Concoction on the CVE dataset."
   ]
  },
  {
   "cell_type": "code",
   "execution_count": null,
   "metadata": {},
   "outputs": [],
   "source": []
  },
  {
   "cell_type": "code",
   "execution_count": null,
   "metadata": {},
   "outputs": [],
   "source": []
  },
  {
   "cell_type": "code",
   "execution_count": null,
   "metadata": {},
   "outputs": [],
   "source": []
  }
 ],
 "metadata": {
  "kernelspec": {
   "display_name": "Python 3 (ipykernel)",
   "language": "python",
   "name": "python3"
  },
  "language_info": {
   "codemirror_mode": {
    "name": "ipython",
    "version": 3
   },
   "file_extension": ".py",
   "mimetype": "text/x-python",
   "name": "python",
   "nbconvert_exporter": "python",
   "pygments_lexer": "ipython3",
   "version": "3.9.13"
  }
 },
 "nbformat": 4,
 "nbformat_minor": 4
}
