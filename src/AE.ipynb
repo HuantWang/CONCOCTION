{
 "cells": [
  {
   "cell_type": "markdown",
   "metadata": {},
   "source": [
    "# Artifacts Evaluation Instructions: #506   Combining Static and Dynamic Code Information for Software Vulnerability Prediction\n",
    "\n",
    "## Preliminaries\n",
    "\n",
    "This interactive Jupyter notebook provides a small-scale demo to showcase the program representation, vulnerability detection, and prediction of vulnerability detection discussed in the paper.\n",
    "\n",
    "The main results of our CCS 2023 paper involve comparing the performance of our vulnerability detection with prior machine learning-based approaches. The evaluation presented in our paper was conducted on a much larger dataset and for a longer duration. The intention of this notebook is to provide minimal working examples that can be evaluated within a reasonable time frame.\n",
    "\n",
    "## Instructions for Experimental Workflow:\n",
    "\n",
    "Before you start, please first make a copy of the notebook by going to the landing page. Then select the checkbox next to the notebook titled *main.ipynb*, then click \"**Duplicate**\".\n",
    "\n",
    "Click the name of the newly created Jupyter Notebook, e.g. **AE-Copy1.ipynb**. Next, select \"**Kernel**\" > \"**Restart & Clear Output**\". Then, repeatedly press the play button (the tooltip is \"run cell, select below\") to step through each cell of the notebook.\n",
    "\n",
    "Alternatively, select each cell in turn and use \"**Cell**\"> \"**Run Cell**\" from the menu to run specific cells. Note that some cells depend on previous cells being executed. If any errors occur, ensure all previous cells have been executed.\n",
    "\n",
    "## Important Notes\n",
    "\n",
    "**Some cells can take more than half an hour to complete; please wait for the results until step to the next cell.** \n",
    "\n",
    "High load can lead to a long wait for results. This may occur if multiple reviewers are simultaneously trying to generate results. \n",
    "\n",
    "The experiments are customisable as the code provided in the Jupyter Notebook can be edited on the spot. Simply type your changes into the code blocks and re-run using **Cell > Run Cells** from the menu.\n",
    "\n",
    "## Links to The Paper\n",
    "\n",
    "For each step, we note the section number of the submitted version where the relevant technique is described or data is presented.\n",
    "\n",
    "The main results are presented in Figures 9-12 of the submitted paper."
   ]
  },
  {
   "cell_type": "markdown",
   "metadata": {},
   "source": [
    "# Demo 1: The Concoction Model Architecture\n",
    "\n",
    "This demo corresponds to the architecture given in Figure 3. Note that This is a small-scale demo for vulnerability detection. The full-scale evaluation used in the paper takes over 24 hours to run.\n",
    "\n",
    "## Step 1. Program representation\n",
    "\n",
    "The program representation component maps the input source code and dynamic symbolic execution traces of the target function into a numerical embedding vector.\n",
    "\n",
    "#### *Static representation model*:"
   ]
  },
  {
   "cell_type": "code",
   "execution_count": 1,
   "metadata": {},
   "outputs": [
    {
     "name": "stdout",
     "output_type": "stream",
     "text": [
      "ROOTPATH:/CONCOCTION/src\n"
     ]
    }
   ],
   "source": [
    "from Evaluation.demo1.setRootpath import setRootpath\n",
    "ROOTPATH=setRootpath()"
   ]
  },
  {
   "cell_type": "code",
   "execution_count": 2,
   "metadata": {
    "ExecuteTime": {
     "end_time": "2023-05-08T13:43:09.666390500Z",
     "start_time": "2023-05-08T13:43:09.658388600Z"
    },
    "scrolled": true
   },
   "outputs": [
    {
     "name": "stdout",
     "output_type": "stream",
     "text": [
      "2023-12-25 14:23:15,397 - INFO - start to get function segmentation... \n",
      "finished:0.00%   Batch 1\n",
      "2023-12-25 14:23:16,575 - INFO - start to get graphRelation by joern... \n",
      "joern_relationgood.py over...\n",
      "2023-12-25 14:23:35,155 - INFO - start to get seven edges...\n",
      "2023-12-25 14:23:35,853 - INFO - start to get cfgpath  by joern and concate... \n",
      "Processing getcfg jasper.c-main.c: 100%|████████| 10/10 [01:13<00:00,  7.35s/it]\n",
      "Exception in thread \"main\" java.lang.NullPointerException\n",
      "\tat cfg2path.GetCfgInfo.parseTxt2node(GetCfgInfo.java:321)\n",
      "\tat cfg2path.GetCfgInfo.run(GetCfgInfo.java:255)\n",
      "\tat cfg2path.GetCfgInfo.main(GetCfgInfo.java:228)\n",
      "============================================================================================================\n",
      "2023-12-25 14:24:49,682 - INFO - extracted static feature stored in : /CONCOCTION/src/feature/static/github/static/\n",
      "showing the static code information of /CONCOCTION/src/feature/static/github/static/imginfo.c-cmdinfo.c.txt\n",
      "-----label-----\n",
      "0\n",
      "-----code-----\n",
      "static void cmdinfo()\n",
      "{\n",
      "\tfprintf(stderr, \"Image Information Utility (Version %s).\\n\",\n",
      "\t  JAS_VERSION);\n",
      "\tfprintf(stderr,\n",
      "\t  \"Copyright (c) 2001 Michael David Adams.\\n\"\n",
      "\t  \"All rights reserved.\\n\"\n",
      "\t  );\n",
      "}\n",
      "-----children-----\n",
      "1,2\n",
      "1,3\n",
      "1,4\n",
      "3,4\n",
      "5,6\n",
      "5,7\n",
      "6,7\n",
      "7,8\n",
      "7,9\n",
      "7,10\n",
      "7,11\n",
      "8,9\n",
      "10,11\n",
      "13,14\n",
      "15,16\n",
      "16,17\n",
      "16,18\n",
      "16,19\n",
      "17,18\n",
      "19,20\n",
      "-----nextToken-----\n",
      "2,4,9,11,12,14,18,20,21\n",
      "-----computeFrom-----\n",
      "-----guardedBy-----\n",
      "-----guardedByNegation-----\n",
      "-----lastLexicalUse-----\n",
      "-----jump-----\n",
      "-----attribute-----\n",
      "FunctionDefinition;SimpleDeclSpecifier;FunctionDeclarator;Name;CompoundStatement;ExpressionStatement;FunctionCallExpression;IdExpression;Name;IdExpression;Name;LiteralExpression;IdExpression;Name;ExpressionStatement;FunctionCallExpression;IdExpression;Name;IdExpression;Name;LiteralExpression;\n",
      "-----ast_node-----\n",
      "static void cmdinfo(){\tfprintf(stderr, \"Image Information Utility (Version %s).\\n\",\t  JAS_VERSION);\tfprintf(stderr,\t  \"Copyright (c) 2001 Michael David Adams.\\n\"\t  \"All rights reserved.\\n\"\t  );}\n",
      "static void\n",
      "cmdinfo()\n",
      "cmdinfo\n",
      "{\tfprintf(stderr, \"Image Information Utility (Version %s).\\n\",\t  JAS_VERSION);\tfprintf(stderr,\t  \"Copyright (c) 2001 Michael David Adams.\\n\"\t  \"All rights reserved.\\n\"\t  );}\n",
      "fprintf(stderr, \"Image Information Utility (Version %s).\\n\",\t  JAS_VERSION);\n",
      "fprintf(stderr, \"Image Information Utility (Version %s).\\n\",\t  JAS_VERSION)\n",
      "fprintf\n",
      "fprintf\n",
      "stderr\n",
      "stderr\n",
      "\"Image Information Utility (Version %s).\\n\"\n",
      "JAS_VERSION\n",
      "JAS_VERSION\n",
      "fprintf(stderr,\t  \"Copyright (c) 2001 Michael David Adams.\\n\"\t  \"All rights reserved.\\n\"\t  );\n",
      "fprintf(stderr,\t  \"Copyright (c) 2001 Michael David Adams.\\n\"\t  \"All rights reserved.\\n\"\t  )\n",
      "fprintf\n",
      "fprintf\n",
      "stderr\n",
      "stderr\n",
      "\"Copyright (c) 2001 Michael David Adams.\\n\"\t  \"All rights reserved.\\n\"\n",
      "-----joern-----\n",
      "(0,1,0)\n",
      "(6,4,0)\n",
      "(5,1,0)\n",
      "(8,4,0)\n",
      "(7,4,0)\n",
      "(1,3,0)\n",
      "(4,3,0)\n",
      "(5,0,1)\n",
      "(4,7,1)\n",
      "(8,6,1)\n",
      "(2,1,1)\n",
      "(7,8,1)\n",
      "(0,4,1)\n",
      "(1,5,1)\n",
      "-----------------------------------\n",
      "(0,stderr)\n",
      "(1,fprintf(stderr,\\\\n\\\\t  \"Copyright (c)\n",
      "(2,RET)\n",
      "(3,)\n",
      "(4,fprintf(stderr, \"Image Information Utility (Version %s)\n",
      "(5,\"Copyright (c)\n",
      "(6,stderr)\n",
      "(7,JAS_VERSION)\n",
      "(8,\"Image Information Utility (Version %s)\n",
      "^^^^^^^^^^^^^^^^^^^^^^^^^^^^^^^^^^^\n"
     ]
    }
   ],
   "source": [
    "#  Extract Program Information (To show static code information like sec 3.3.1.)\n",
    "\n",
    "import os\n",
    "current=ROOTPATH\n",
    "projectPath=os.path.join(current,\"Evaluation/exampleProject/test1\")\n",
    "scriptPath=os.path.join(current,\"Evaluation/demo1/getStatic.sh\")\n",
    "!bash $scriptPath $projectPath"
   ]
  },
  {
   "cell_type": "code",
   "execution_count": 3,
   "metadata": {},
   "outputs": [
    {
     "name": "stdout",
     "output_type": "stream",
     "text": [
      " Pretraining the Representation Models......\n"
     ]
    },
    {
     "name": "stderr",
     "output_type": "stream",
     "text": [
      "dirs: 277it [00:02, 94.58it/s] \n"
     ]
    },
    {
     "name": "stdout",
     "output_type": "stream",
     "text": [
      "\n",
      "{'train_runtime': 41.0623, 'train_samples_per_second': 5.041, 'epoch': 3.0}\n",
      "\n",
      " Saving model checkpoint to /CONCOCTION/src/concoction/pretrainedModel/staticRepresentation/trainedModel\n"
     ]
    }
   ],
   "source": [
    "#  Pretrain Representation Models (Here we use Graphcodebert like sec 3.4)\n",
    "import os\n",
    "from Evaluation.demo1.concoction import concoction\n",
    "path=os.path.join(ROOTPATH,'concoction/data/dataset')\n",
    "concoction.staticRepre(path)"
   ]
  },
  {
   "cell_type": "code",
   "execution_count": 4,
   "metadata": {},
   "outputs": [
    {
     "name": "stdout",
     "output_type": "stream",
     "text": [
      " Show the Trained Model(Static code Infomation Representation Model)\n",
      "\n"
     ]
    },
    {
     "name": "stderr",
     "output_type": "stream",
     "text": [
      "/bin/sh: 1: cd: can't cd to /Evaluation/demo1\n"
     ]
    }
   ],
   "source": [
    "#  Show the Trained Model (like the example in https://github.com/microsoft/CodeBERT)\n",
    "\n",
    "import os\n",
    "from Evaluation.demo1.concoction import concoction\n",
    "path=os.path.join(ROOTPATH,'concoction/data/dataset')\n",
    "concoction.showStaticRepre()"
   ]
  },
  {
   "cell_type": "markdown",
   "metadata": {},
   "source": [
    "\n",
    "#### *Dynamic representation model*:\n"
   ]
  },
  {
   "cell_type": "code",
   "execution_count": 5,
   "metadata": {
    "ExecuteTime": {
     "end_time": "2023-05-08T13:43:09.678393300Z",
     "start_time": "2023-05-08T13:43:09.665390300Z"
    },
    "scrolled": false
   },
   "outputs": [
    {
     "name": "stdout",
     "output_type": "stream",
     "text": [
      "sh: 0: Can't open /homee/Evaluation/demo1/execDynamic.sh\r\n",
      "showing the dynamic code information of /CONCOCTION/src/concoction/data/dataset0_dy/jas_cm.c-icctoclrspc.c.txt\r\n",
      "----------------dynamic----------------\r\n",
      "=======testcase========\r\n",
      "model_version:0x01000000\r\n",
      "A-data-stat:0xa20000000000000010101010101002100100000000000000a48100000000000000000000101010100000000000000000101010101010101000100000000000001010101010101010c5490a6500000000101010101010101099c4096500000000101010101010101099c40965000000001010101010101010101010101010101010101010101010101010101010101010\r\n",
      "A-data:0x503337230a0930230000000000000000000000000000000000000000000000000000000000000000000000000000000000000000000000000000000000000000000000000000000000000000000000000000000a230a31370c0c30303123000a0c000c23\r\n",
      "=========trace=========\r\n",
      "static int icctoclrspc(int iccclrspc, int refflag) {\r\n",
      "if(refflag)\r\n",
      "switch(iccclrspc)\r\n",
      "return JAS_CLRSPC_CIEXYZ;\r\n",
      "=======================\r\n"
     ]
    }
   ],
   "source": [
    "#  Extract Program Information (To show dynamic code information like sec 3.3.2.)\n",
    "import os\n",
    "\n",
    "shell_file=os.path.join(ROOTPATH,'Evaluation/demo1/getDynamic.sh')\n",
    "project_path=os.path.join(ROOTPATH,'Evaluation/exampleProject/jasper-version-1.900.1')\n",
    "!sh $shell_file $project_path "
   ]
  },
  {
   "cell_type": "code",
   "execution_count": 6,
   "metadata": {},
   "outputs": [],
   "source": [
    "#  show dynamic code information"
   ]
  },
  {
   "cell_type": "code",
   "execution_count": 7,
   "metadata": {},
   "outputs": [
    {
     "name": "stdout",
     "output_type": "stream",
     "text": [
      " Preprocesing the data......\n"
     ]
    },
    {
     "name": "stderr",
     "output_type": "stream",
     "text": [
      "\r",
      "dirs: 0it [00:00, ?it/s]\r",
      "dirs: 0it [00:00, ?it/s]\n"
     ]
    },
    {
     "name": "stdout",
     "output_type": "stream",
     "text": [
      "Saving success\n",
      "\n",
      " Pretraining the Representation Models......\n",
      "\n",
      " Saving model checkpoint to /CONCOCTION/src/concoction/pretrainedModel/dynamicRepresentation/trainedModel\n"
     ]
    }
   ],
   "source": [
    "#  Pretrain Representation Models (Here we use Simcse like sec 3.4)\n",
    "#preprocess\n",
    "\n",
    "import os\n",
    "from Evaluation.demo1.concoction import concoction\n",
    "path=os.path.join(ROOTPATH,'concoction/data/test1')\n",
    "concoction.dynamicRepre(path)"
   ]
  },
  {
   "cell_type": "code",
   "execution_count": 8,
   "metadata": {},
   "outputs": [
    {
     "name": "stdout",
     "output_type": "stream",
     "text": [
      " Show the Trained Model(Dynamic code Infomation Representation Model)\n",
      "\n"
     ]
    },
    {
     "name": "stderr",
     "output_type": "stream",
     "text": [
      "/bin/sh: 1: cd: can't cd to /Evaluation/demo1\n"
     ]
    }
   ],
   "source": [
    "#  Show the Trained Model (like the example in https://github.com/microsoft/CodeBERT)\n",
    "\n",
    "import os\n",
    "from Evaluation.demo1.concoction import concoction\n",
    "path=os.path.join(ROOTPATH,'concoction/data/dataset')\n",
    "concoction.showDynamicRepre()"
   ]
  },
  {
   "cell_type": "markdown",
   "metadata": {},
   "source": [
    "\n",
    "\n",
    "## Step 2. Vulnerability Detection\n",
    "\n",
    " Concoction’s detection component takes the joint embedding as input to predict the presence of vulnerabilities.  Our current implementation only identifies whether a function may contain a vulnerability or bug and does not specify the type of vulnerability. Here we use SARD benchmarks.\n",
    "\n",
    "**approximate runtime ~ 30 minutes (please wait before moving to the next cell)**\n",
    "\n",
    "#### *Dynamic representation model*:\n"
   ]
  },
  {
   "cell_type": "code",
   "execution_count": 9,
   "metadata": {},
   "outputs": [
    {
     "name": "stdout",
     "output_type": "stream",
     "text": [
      "Training the detection Model...\n",
      "Load data from exist npy\n",
      "Computing embedding for train\n",
      "Computed train embeddings\n",
      "Computing embedding for dev\n",
      "Computed dev embeddings\n",
      "Computing embedding for test\n",
      "Computed test embeddings\n",
      "Training best: f1 = 0.8881118943903565, precision = 0.9694656729698181,recall = 0.8193548321723938,accuracy = 0.8853046594982079\n",
      "Training best: f1 = 0.8881118943903565, precision = 0.9694656729698181,recall = 0.8193548321723938,accuracy = 0.8853046594982079\n",
      "Training best: f1 = 0.8881118943903565, precision = 0.9694656729698181,recall = 0.8193548321723938,accuracy = 0.8853046594982079\n",
      "Training best: f1 = 0.8881118943903565, precision = 0.9694656729698181,recall = 0.8193548321723938,accuracy = 0.8853046594982079\n",
      "Validation : f1 = 0.8881118943903565, precision = 0.9694656729698181,recall = 0.8193548321723938,accuracy = 0.8853046594982079\n",
      "Training best: f1 = 0.8881118943903565, precision = 0.9694656729698181,recall = 0.8193548321723938,accuracy = 0.8853046594982079\n",
      "model clf saved to./f1_0.8881118943903565_2023-12-25.h5...\n",
      "Test : f1 = 0.8401487068813583, precision = 0.89682537317276,recall = 0.7902097702026367,accuracy = 0.8464285714285714\n",
      "\n"
     ]
    }
   ],
   "source": [
    "# Training the detection Model\n",
    "\n",
    "import os\n",
    "from Evaluation.demo1.concoction import concoction\n",
    "concoction.trainDetectModel()"
   ]
  },
  {
   "cell_type": "code",
   "execution_count": 10,
   "metadata": {},
   "outputs": [
    {
     "name": "stdout",
     "output_type": "stream",
     "text": [
      "Show the Trained Model (Load trained model and test on test case)\n",
      "{'nhid': 2, 'optim': 'adam', 'batch_size': 64, 'tenacity': 5, 'epoch_size': 200}\n",
      "Load data from exist npy\n",
      "Computed data embeddings\n",
      "model load from/CONCOCTION/src/Evaluation/ExperimentalEvaluation/Concoction/saved_models/github.h5\n",
      "prediction : f1 = 0.8715083573586397, precision = 0.8914285898208618,recall = 0.8524590134620667,accuracy = 0.8685714285714285\n",
      "\n"
     ]
    }
   ],
   "source": [
    "#  Show the Trained Model (Load trained model and test on test case)\n",
    "\n",
    "import os\n",
    "from Evaluation.demo1.concoction import concoction\n",
    "path=os.path.join(ROOTPATH,'concoction/data/dataset')\n",
    "concoction.showDetectModel()"
   ]
  },
  {
   "cell_type": "markdown",
   "metadata": {},
   "source": [
    "## Step 3. Deployment\n",
    "\n",
    "This demo shows how to deploy our trained model on a real world project. Here we apply the xx as our test project.\n",
    "\n",
    "#### *Path Selection for Symbolic Execution*:\n",
    "After training the end-to-end model, we develop a path selection component to automatically select a subset of important paths whose dynamic traces are likely to improve prediction accuracy during deployment.\n",
    "\n",
    "*approximate runtime ~ 30 minutes*"
   ]
  },
  {
   "cell_type": "code",
   "execution_count": 11,
   "metadata": {
    "ExecuteTime": {
     "end_time": "2023-05-08T13:43:09.709400100Z",
     "start_time": "2023-05-08T13:43:09.695397900Z"
    }
   },
   "outputs": [
    {
     "name": "stdout",
     "output_type": "stream",
     "text": [
      "Extracting Execution path representation...\n"
     ]
    },
    {
     "name": "stderr",
     "output_type": "stream",
     "text": [
      "dirs: 20it [00:01, 11.14it/s]\n"
     ]
    },
    {
     "name": "stdout",
     "output_type": "stream",
     "text": [
      "preprocess data........\n",
      "Execution path representation stored in /CONCOCTION/src/concoction/data/feature_path\n",
      "\n"
     ]
    }
   ],
   "source": [
    "# Execution path representation (shown as Sec. 3.6.1)\n",
    "\n",
    "import os\n",
    "from Evaluation.demo1.concoction import concoction\n",
    "concoction.extractPathRepre()"
   ]
  },
  {
   "cell_type": "code",
   "execution_count": 12,
   "metadata": {},
   "outputs": [
    {
     "name": "stdout",
     "output_type": "stream",
     "text": [
      "Active learning for path selection...\n"
     ]
    },
    {
     "name": "stderr",
     "output_type": "stream",
     "text": [
      "100%|██████████| 20/20 [00:05<00:00,  3.50it/s]\n"
     ]
    },
    {
     "name": "stdout",
     "output_type": "stream",
     "text": [
      "Load Data....\n",
      "saved the select path to /CONCOCTION/src/concoction/data/feature_path_text\n",
      "\n",
      "/CONCOCTION/src/concoction/data/dataset0/jas_cm.c-jas_cmprof_createfromiccprof.c.txt\n",
      " path nums: \n",
      "42\n",
      "showing the code and the selected path of /CONCOCTION/src/concoction/data/feature_path_text/jas_cm.c-jas_cmprof_createfromiccprof.c.txt\n",
      "--------------filename--------------\n",
      "/CONCOCTION/concoction/data/dataset0/jas_cm.c-jas_cmprof_createfromiccprof.c.txt\n",
      "--------------code--------------\n",
      "jas_cmprof_t *jas_cmprof_createfromiccprof(jas_iccprof_t *iccprof)\n",
      "{\n",
      "\tjas_cmprof_t *prof;\n",
      "\tjas_icchdr_t icchdr;\n",
      "\tjas_cmpxformseq_t *fwdpxformseq;\n",
      "\tjas_cmpxformseq_t *revpxformseq;\n",
      "\n",
      "\tprof = 0;\n",
      "\tfwdpxformseq = 0;\n",
      "\trevpxformseq = 0;\n",
      "\n",
      "\tif (!(prof = jas_cmprof_create()))\n",
      "\t\tgoto error;\n",
      "\tjas_iccprof_gethdr(iccprof, &icchdr);\n",
      "\tif (!(prof->iccprof = jas_iccprof_copy(iccprof)))\n",
      "\t\tgoto error;\n",
      "\tprof->clrspc = icctoclrspc(icchdr.colorspc, 0);\n",
      "\tprof->refclrspc = icctoclrspc(icchdr.refcolorspc, 1);\n",
      "\tprof->numchans = jas_clrspc_numchans(prof->clrspc);\n",
      "\tprof->numrefchans = jas_clrspc_numchans(prof->refclrspc);\n",
      "\n",
      "\tif (prof->numchans == 1) {\n",
      "\t\tif (mono(prof->iccprof, 0, &fwdpxformseq))\n",
      "\t\t\tgoto error;\n",
      "\t\tif (mono(prof->iccprof, 1, &revpxformseq))\n",
      "\t\t\tgoto error;\n",
      "\t} else if (prof->numchans == 3) {\n",
      "\t\tif (triclr(prof->iccprof, 0, &fwdpxformseq))\n",
      "\t\t\tgoto error;\n",
      "\t\tif (triclr(prof->iccprof, 1, &revpxformseq))\n",
      "\t\t\tgoto error;\n",
      "\t}\n",
      "\tprof->pxformseqs[SEQFWD(0)] = fwdpxformseq;\n",
      "\tprof->pxformseqs[SEQREV(0)] = revpxformseq;\n",
      "\n",
      "#if 0\n",
      "\tif (prof->numchans > 1) {\n",
      "\t\tlut(prof->iccprof, 0, PER, &pxformseq);\n",
      "\t\tpxformseqs_set(prof, SEQFWD(PER), pxformseq);\n",
      "\t\tlut(prof->iccprof, 1, PER, &pxformseq);\n",
      "\t\tpxformseqs_set(prof, SEQREV(PER), pxformseq);\n",
      "\t\tlut(prof->iccprof, 0, CLR, &pxformseq);\n",
      "\t\tpxformseqs_set(prof, SEQREV(CLR), pxformseq);\n",
      "\t\tlut(prof->iccprof, 1, CLR, &pxformseq);\n",
      "\t\tpxformseqs_set(prof, SEQREV(CLR), pxformseq);\n",
      "\t\tlut(prof->iccprof, 0, SAT, &pxformseq);\n",
      "\t\tpxformseqs_set(prof, SEQREV(SAT), pxformseq);\n",
      "\t\tlut(prof->iccprof, 1, SAT, &pxformseq);\n",
      "\t\tpxformseqs_set(prof, SEQREV(SAT), pxformseq);\n",
      "\t}\n",
      "#endif\n",
      "\n",
      "\treturn prof;\n",
      "\n",
      "error:\n",
      "\tif (fwdpxformseq) {\n",
      "\t\tjas_cmpxformseq_destroy(fwdpxformseq);\n",
      "\t}\n",
      "\tif (revpxformseq) {\n",
      "\t\tjas_cmpxformseq_destroy(revpxformseq);\n",
      "\t}\n",
      "\tif (prof) {\n",
      "\t\tjas_cmprof_destroy(prof);\n",
      "\t}\n",
      "\n",
      "\treturn 0;\n",
      "}\n",
      "--------------path--------------\n",
      "jas_cmprof_t jas_cmprof_createfromiccprof (jas_iccprof_t *iccprof)\n",
      "prof = 0\n",
      "fwdpxformseq = 0\n",
      "revpxformseq = 0\n",
      "jas_cmprof_create()\n",
      "prof = jas_cmprof_create()\n",
      "!(prof = jas_cmprof_create())\n",
      "&icchdr\n",
      "jas_iccprof_gethdr(iccprof &icchdr)\n",
      "iccprof\n",
      "prof->iccprof\n",
      "jas_iccprof_copy(iccprof)\n",
      "prof->iccprof = jas_iccprof_copy(iccprof)\n",
      "!(prof->iccprof = jas_iccprof_copy(iccprof))\n",
      "if (fwdpxformseq)\n",
      "if (prof)\n",
      "<empty>\n",
      "prof\n",
      "--------------path over--------------\n",
      "--------------path--------------\n",
      "jas_cmprof_t jas_cmprof_createfromiccprof (jas_iccprof_t *iccprof)\n",
      "prof = 0\n",
      "fwdpxformseq = 0\n",
      "revpxformseq = 0\n",
      "jas_cmprof_create()\n",
      "prof = jas_cmprof_create()\n",
      "!(prof = jas_cmprof_create())\n",
      "&icchdr\n",
      "jas_iccprof_gethdr(iccprof &icchdr)\n",
      "iccprof\n",
      "prof->iccprof\n",
      "jas_iccprof_copy(iccprof)\n",
      "prof->iccprof = jas_iccprof_copy(iccprof)\n",
      "!(prof->iccprof = jas_iccprof_copy(iccprof))\n",
      "if (fwdpxformseq)\n",
      "<empty>\n",
      "prof\n",
      "--------------path over--------------\n",
      "--------------path--------------\n",
      "jas_cmprof_t jas_cmprof_createfromiccprof (jas_iccprof_t *iccprof)\n",
      "prof = 0\n",
      "fwdpxformseq = 0\n",
      "revpxformseq = 0\n",
      "jas_cmprof_create()\n",
      "prof = jas_cmprof_create()\n",
      "!(prof = jas_cmprof_create())\n",
      "&icchdr\n",
      "jas_iccprof_gethdr(iccprof &icchdr)\n",
      "iccprof\n",
      "prof->iccprof\n",
      "jas_iccprof_copy(iccprof)\n",
      "prof->iccprof = jas_iccprof_copy(iccprof)\n",
      "!(prof->iccprof = jas_iccprof_copy(iccprof))\n",
      "if (revpxformseq)\n",
      "if (prof)\n",
      "<empty>\n",
      "prof\n",
      "--------------path over--------------\n",
      "--------------path--------------\n",
      "jas_cmprof_t jas_cmprof_createfromiccprof (jas_iccprof_t *iccprof)\n",
      "prof = 0\n",
      "fwdpxformseq = 0\n",
      "revpxformseq = 0\n",
      "jas_cmprof_create()\n",
      "prof = jas_cmprof_create()\n",
      "!(prof = jas_cmprof_create())\n",
      "&icchdr\n",
      "jas_iccprof_gethdr(iccprof &icchdr)\n",
      "iccprof\n",
      "prof->iccprof\n",
      "jas_iccprof_copy(iccprof)\n",
      "prof->iccprof = jas_iccprof_copy(iccprof)\n",
      "!(prof->iccprof = jas_iccprof_copy(iccprof))\n",
      "clrspc\n",
      "prof->clrspc\n",
      "colorspc\n",
      "icchdr.colorspc\n",
      "icctoclrspc(icchdr.colorspc 0)\n",
      "prof->clrspc = icctoclrspc(icchdr.colorspc 0)\n",
      "refclrspc\n",
      "prof->refclrspc\n",
      "refcolorspc\n",
      "icchdr.refcolorspc\n",
      "icctoclrspc(icchdr.refcolorspc 1)\n",
      "prof->refclrspc = icctoclrspc(icchdr.refcolorspc 1)\n",
      "numchans\n",
      "prof->numchans\n",
      "clrspc\n",
      "prof->clrspc\n",
      "jas_clrspc_numchans(prof->clrspc)\n",
      "prof->numchans = jas_clrspc_numchans(prof->clrspc)\n",
      "numrefchans\n",
      "prof->numrefchans\n",
      "refclrspc\n",
      "prof->refclrspc\n",
      "jas_clrspc_numchans(prof->refclrspc)\n",
      "prof->numrefchans = jas_clrspc_numchans(prof->refclrspc)\n",
      "numchans\n",
      "prof->numchans\n",
      "prof->numchans == 1\n",
      "iccprof\n",
      "prof->iccprof\n",
      "&fwdpxformseq\n",
      "mono(prof->iccprof 0 &fwdpxformseq)\n",
      "if (fwdpxformseq)\n",
      "<empty>\n",
      "prof\n",
      "--------------path over--------------\n",
      "--------------path--------------\n",
      "jas_cmprof_t jas_cmprof_createfromiccprof (jas_iccprof_t *iccprof)\n",
      "prof = 0\n",
      "fwdpxformseq = 0\n",
      "revpxformseq = 0\n",
      "jas_cmprof_create()\n",
      "prof = jas_cmprof_create()\n",
      "!(prof = jas_cmprof_create())\n",
      "&icchdr\n",
      "jas_iccprof_gethdr(iccprof &icchdr)\n",
      "iccprof\n",
      "prof->iccprof\n",
      "jas_iccprof_copy(iccprof)\n",
      "prof->iccprof = jas_iccprof_copy(iccprof)\n",
      "!(prof->iccprof = jas_iccprof_copy(iccprof))\n",
      "clrspc\n",
      "prof->clrspc\n",
      "colorspc\n",
      "icchdr.colorspc\n",
      "icctoclrspc(icchdr.colorspc 0)\n",
      "prof->clrspc = icctoclrspc(icchdr.colorspc 0)\n",
      "refclrspc\n",
      "prof->refclrspc\n",
      "refcolorspc\n",
      "icchdr.refcolorspc\n",
      "icctoclrspc(icchdr.refcolorspc 1)\n",
      "prof->refclrspc = icctoclrspc(icchdr.refcolorspc 1)\n",
      "numchans\n",
      "prof->numchans\n",
      "clrspc\n",
      "prof->clrspc\n",
      "jas_clrspc_numchans(prof->clrspc)\n",
      "prof->numchans = jas_clrspc_numchans(prof->clrspc)\n",
      "numrefchans\n",
      "prof->numrefchans\n",
      "refclrspc\n",
      "prof->refclrspc\n",
      "jas_clrspc_numchans(prof->refclrspc)\n",
      "prof->numrefchans = jas_clrspc_numchans(prof->refclrspc)\n",
      "numchans\n",
      "prof->numchans\n",
      "prof->numchans == 1\n",
      "iccprof\n",
      "prof->iccprof\n",
      "&fwdpxformseq\n",
      "mono(prof->iccprof 0 &fwdpxformseq)\n",
      "iccprof\n",
      "prof->iccprof\n",
      "&revpxformseq\n",
      "mono(prof->iccprof 1 &revpxformseq)\n",
      "if (revpxformseq)\n",
      "<empty>\n",
      "--------------path over--------------\n",
      "--------------filename--------------\n",
      "/CONCOCTION/src/concoction/data/dataset0/jas_cm.c-jas_cmprof_createfromiccprof.c.txt\n",
      "--------------code--------------\n",
      "jas_cmprof_t *jas_cmprof_createfromiccprof(jas_iccprof_t *iccprof)\n",
      "{\n",
      "\tjas_cmprof_t *prof;\n",
      "\tjas_icchdr_t icchdr;\n",
      "\tjas_cmpxformseq_t *fwdpxformseq;\n",
      "\tjas_cmpxformseq_t *revpxformseq;\n",
      "\n",
      "\tprof = 0;\n",
      "\tfwdpxformseq = 0;\n",
      "\trevpxformseq = 0;\n",
      "\n",
      "\tif (!(prof = jas_cmprof_create()))\n",
      "\t\tgoto error;\n",
      "\tjas_iccprof_gethdr(iccprof, &icchdr);\n",
      "\tif (!(prof->iccprof = jas_iccprof_copy(iccprof)))\n",
      "\t\tgoto error;\n",
      "\tprof->clrspc = icctoclrspc(icchdr.colorspc, 0);\n",
      "\tprof->refclrspc = icctoclrspc(icchdr.refcolorspc, 1);\n",
      "\tprof->numchans = jas_clrspc_numchans(prof->clrspc);\n",
      "\tprof->numrefchans = jas_clrspc_numchans(prof->refclrspc);\n",
      "\n",
      "\tif (prof->numchans == 1) {\n",
      "\t\tif (mono(prof->iccprof, 0, &fwdpxformseq))\n",
      "\t\t\tgoto error;\n",
      "\t\tif (mono(prof->iccprof, 1, &revpxformseq))\n",
      "\t\t\tgoto error;\n",
      "\t} else if (prof->numchans == 3) {\n",
      "\t\tif (triclr(prof->iccprof, 0, &fwdpxformseq))\n",
      "\t\t\tgoto error;\n",
      "\t\tif (triclr(prof->iccprof, 1, &revpxformseq))\n",
      "\t\t\tgoto error;\n",
      "\t}\n",
      "\tprof->pxformseqs[SEQFWD(0)] = fwdpxformseq;\n",
      "\tprof->pxformseqs[SEQREV(0)] = revpxformseq;\n",
      "\n",
      "#if 0\n",
      "\tif (prof->numchans > 1) {\n",
      "\t\tlut(prof->iccprof, 0, PER, &pxformseq);\n",
      "\t\tpxformseqs_set(prof, SEQFWD(PER), pxformseq);\n",
      "\t\tlut(prof->iccprof, 1, PER, &pxformseq);\n",
      "\t\tpxformseqs_set(prof, SEQREV(PER), pxformseq);\n",
      "\t\tlut(prof->iccprof, 0, CLR, &pxformseq);\n",
      "\t\tpxformseqs_set(prof, SEQREV(CLR), pxformseq);\n",
      "\t\tlut(prof->iccprof, 1, CLR, &pxformseq);\n",
      "\t\tpxformseqs_set(prof, SEQREV(CLR), pxformseq);\n",
      "\t\tlut(prof->iccprof, 0, SAT, &pxformseq);\n",
      "\t\tpxformseqs_set(prof, SEQREV(SAT), pxformseq);\n",
      "\t\tlut(prof->iccprof, 1, SAT, &pxformseq);\n",
      "\t\tpxformseqs_set(prof, SEQREV(SAT), pxformseq);\n",
      "\t}\n",
      "#endif\n",
      "\n",
      "\treturn prof;\n",
      "\n",
      "error:\n",
      "\tif (fwdpxformseq) {\n",
      "\t\tjas_cmpxformseq_destroy(fwdpxformseq);\n",
      "\t}\n",
      "\tif (revpxformseq) {\n",
      "\t\tjas_cmpxformseq_destroy(revpxformseq);\n",
      "\t}\n",
      "\tif (prof) {\n",
      "\t\tjas_cmprof_destroy(prof);\n",
      "\t}\n",
      "\n",
      "\treturn 0;\n",
      "}\n",
      "--------------path--------------\n",
      "jas_cmprof_t jas_cmprof_createfromiccprof (jas_iccprof_t *iccprof)\n",
      "prof = 0\n",
      "fwdpxformseq = 0\n",
      "revpxformseq = 0\n",
      "jas_cmprof_create()\n",
      "prof = jas_cmprof_create()\n",
      "!(prof = jas_cmprof_create())\n",
      "&icchdr\n",
      "jas_iccprof_gethdr(iccprof &icchdr)\n",
      "iccprof\n",
      "prof->iccprof\n",
      "jas_iccprof_copy(iccprof)\n",
      "prof->iccprof = jas_iccprof_copy(iccprof)\n",
      "!(prof->iccprof = jas_iccprof_copy(iccprof))\n",
      "if (fwdpxformseq)\n",
      "if (prof)\n",
      "<empty>\n",
      "prof\n",
      "--------------path over--------------\n",
      "--------------path--------------\n",
      "jas_cmprof_t jas_cmprof_createfromiccprof (jas_iccprof_t *iccprof)\n",
      "prof = 0\n",
      "fwdpxformseq = 0\n",
      "revpxformseq = 0\n",
      "jas_cmprof_create()\n",
      "prof = jas_cmprof_create()\n",
      "!(prof = jas_cmprof_create())\n",
      "&icchdr\n",
      "jas_iccprof_gethdr(iccprof &icchdr)\n",
      "iccprof\n",
      "prof->iccprof\n",
      "jas_iccprof_copy(iccprof)\n",
      "prof->iccprof = jas_iccprof_copy(iccprof)\n",
      "!(prof->iccprof = jas_iccprof_copy(iccprof))\n",
      "if (fwdpxformseq)\n",
      "<empty>\n",
      "prof\n",
      "--------------path over--------------\n",
      "--------------path--------------\n",
      "jas_cmprof_t jas_cmprof_createfromiccprof (jas_iccprof_t *iccprof)\n",
      "prof = 0\n",
      "fwdpxformseq = 0\n",
      "revpxformseq = 0\n",
      "jas_cmprof_create()\n",
      "prof = jas_cmprof_create()\n",
      "!(prof = jas_cmprof_create())\n",
      "&icchdr\n",
      "jas_iccprof_gethdr(iccprof &icchdr)\n",
      "iccprof\n",
      "prof->iccprof\n",
      "jas_iccprof_copy(iccprof)\n",
      "prof->iccprof = jas_iccprof_copy(iccprof)\n",
      "!(prof->iccprof = jas_iccprof_copy(iccprof))\n",
      "if (revpxformseq)\n",
      "if (prof)\n",
      "<empty>\n",
      "prof\n",
      "--------------path over--------------\n",
      "--------------path--------------\n",
      "jas_cmprof_t jas_cmprof_createfromiccprof (jas_iccprof_t *iccprof)\n",
      "prof = 0\n",
      "fwdpxformseq = 0\n",
      "revpxformseq = 0\n",
      "jas_cmprof_create()\n",
      "prof = jas_cmprof_create()\n",
      "!(prof = jas_cmprof_create())\n",
      "&icchdr\n",
      "jas_iccprof_gethdr(iccprof &icchdr)\n",
      "iccprof\n",
      "prof->iccprof\n",
      "jas_iccprof_copy(iccprof)\n",
      "prof->iccprof = jas_iccprof_copy(iccprof)\n",
      "!(prof->iccprof = jas_iccprof_copy(iccprof))\n",
      "clrspc\n",
      "prof->clrspc\n",
      "colorspc\n",
      "icchdr.colorspc\n",
      "icctoclrspc(icchdr.colorspc 0)\n",
      "prof->clrspc = icctoclrspc(icchdr.colorspc 0)\n",
      "refclrspc\n",
      "prof->refclrspc\n",
      "refcolorspc\n",
      "icchdr.refcolorspc\n",
      "icctoclrspc(icchdr.refcolorspc 1)\n",
      "prof->refclrspc = icctoclrspc(icchdr.refcolorspc 1)\n",
      "numchans\n",
      "prof->numchans\n",
      "clrspc\n",
      "prof->clrspc\n",
      "jas_clrspc_numchans(prof->clrspc)\n",
      "prof->numchans = jas_clrspc_numchans(prof->clrspc)\n",
      "numrefchans\n",
      "prof->numrefchans\n",
      "refclrspc\n",
      "prof->refclrspc\n",
      "jas_clrspc_numchans(prof->refclrspc)\n",
      "prof->numrefchans = jas_clrspc_numchans(prof->refclrspc)\n",
      "numchans\n",
      "prof->numchans\n",
      "prof->numchans == 1\n",
      "iccprof\n",
      "prof->iccprof\n",
      "&fwdpxformseq\n",
      "mono(prof->iccprof 0 &fwdpxformseq)\n",
      "if (fwdpxformseq)\n",
      "<empty>\n",
      "prof\n",
      "--------------path over--------------\n",
      "--------------path--------------\n",
      "jas_cmprof_t jas_cmprof_createfromiccprof (jas_iccprof_t *iccprof)\n",
      "prof = 0\n",
      "fwdpxformseq = 0\n",
      "revpxformseq = 0\n",
      "jas_cmprof_create()\n",
      "prof = jas_cmprof_create()\n",
      "!(prof = jas_cmprof_create())\n",
      "&icchdr\n",
      "jas_iccprof_gethdr(iccprof &icchdr)\n",
      "iccprof\n",
      "prof->iccprof\n",
      "jas_iccprof_copy(iccprof)\n",
      "prof->iccprof = jas_iccprof_copy(iccprof)\n",
      "!(prof->iccprof = jas_iccprof_copy(iccprof))\n",
      "clrspc\n",
      "prof->clrspc\n",
      "colorspc\n",
      "icchdr.colorspc\n",
      "icctoclrspc(icchdr.colorspc 0)\n",
      "prof->clrspc = icctoclrspc(icchdr.colorspc 0)\n",
      "refclrspc\n",
      "prof->refclrspc\n",
      "refcolorspc\n",
      "icchdr.refcolorspc\n",
      "icctoclrspc(icchdr.refcolorspc 1)\n",
      "prof->refclrspc = icctoclrspc(icchdr.refcolorspc 1)\n",
      "numchans\n",
      "prof->numchans\n",
      "clrspc\n",
      "prof->clrspc\n",
      "jas_clrspc_numchans(prof->clrspc)\n",
      "prof->numchans = jas_clrspc_numchans(prof->clrspc)\n",
      "numrefchans\n",
      "prof->numrefchans\n",
      "refclrspc\n",
      "prof->refclrspc\n",
      "jas_clrspc_numchans(prof->refclrspc)\n",
      "prof->numrefchans = jas_clrspc_numchans(prof->refclrspc)\n",
      "numchans\n",
      "prof->numchans\n",
      "prof->numchans == 1\n",
      "iccprof\n",
      "prof->iccprof\n",
      "&fwdpxformseq\n",
      "mono(prof->iccprof 0 &fwdpxformseq)\n",
      "iccprof\n",
      "prof->iccprof\n",
      "&revpxformseq\n",
      "mono(prof->iccprof 1 &revpxformseq)\n",
      "if (revpxformseq)\n",
      "<empty>\n",
      "--------------path over--------------\n",
      "\n"
     ]
    }
   ],
   "source": [
    "# Active learning for path selection (Sec. 3.6.2)\n",
    "#data preprocess\n",
    "\n",
    "\n",
    "import os\n",
    "from Evaluation.demo1.concoction import concoction\n",
    "concoction.pathSelect()"
   ]
  },
  {
   "cell_type": "code",
   "execution_count": 13,
   "metadata": {},
   "outputs": [
    {
     "name": "stdout",
     "output_type": "stream",
     "text": [
      "Symbolic execution for chosen paths...\n",
      "Execution results stored in the /CONCOCTION/src/concoction/data/feature_result\n",
      "\n"
     ]
    }
   ],
   "source": [
    "# Symbolic execution for chosen paths (Sec. 3.6.3)\n",
    "\n",
    "import os\n",
    "from Evaluation.demo1.concoction import concoction\n",
    "concoction.symbolicOnPath()"
   ]
  },
  {
   "cell_type": "markdown",
   "metadata": {},
   "source": [
    "#### *Fuzzing for Test Case Generation*:\n",
    "\n",
    " We use fuzzing techniques to generate test cases for functions predicted to contain potential vulnerabilities, aiming to automate the testing process and minimize the need for manual inspection."
   ]
  },
  {
   "cell_type": "code",
   "execution_count": 14,
   "metadata": {
    "ExecuteTime": {
     "end_time": "2023-05-08T13:43:09.727404100Z",
     "start_time": "2023-05-08T13:43:09.711400500Z"
    }
   },
   "outputs": [],
   "source": [
    "# Utilizing AFL++ To Objective project (Shown as Sec. 3.7)"
   ]
  },
  {
   "cell_type": "markdown",
   "metadata": {},
   "source": [
    "## Demo 2: Experimental Evaluation\n",
    "\n",
    "Here, we provide a small-sized evaluation to showcase the working mechanism of Concoction bug detection. A full-scale evaluation, which takes more than a day to run, is provided through the Docker image (with detailed instructions on our project Github).\n",
    "\n",
    "### Large-scale Testing (Section 5.1)\n",
    "\n",
    " This part (add a web link) gives a quantified summary of Concoction for detecting function-level code vulnerabilities across the 20 projects listed in Table 1 in our papaer.\n",
    "\n",
    "This demo corresponds to Table 5 of the submitted manuscript.\n"
   ]
  },
  {
   "cell_type": "markdown",
   "metadata": {},
   "source": [
    "### Evaluation on Open Dataset (Section  5.2)\n",
    "\n",
    "We now evaluate our vulnerability detection model on the SARD and CVE datasets in Table 2 in paper.\n",
    "\n",
    "This demo corresponds to Figure 9 and 10 of the submitted manuscript.\n",
    "\n",
    "*approximate runtime = 10 minutes for one benchmark*\n",
    "\n",
    "#### *Sard Dataset*:\n"
   ]
  },
  {
   "cell_type": "code",
   "execution_count": 15,
   "metadata": {
    "ExecuteTime": {
     "end_time": "2023-05-08T13:43:09.740861300Z",
     "start_time": "2023-05-08T13:43:09.725404Z"
    },
    "scrolled": false
   },
   "outputs": [
    {
     "name": "stdout",
     "output_type": "stream",
     "text": [
      "/CONCOCTION/src/Evaluation\n",
      "method:linvul\n",
      "load_saved_model:/CONCOCTION/src/Evaluation/ExperimentalEvaluation/lineVul/linevul/saved_modelss/cwe416.h5\n",
      "dataDir:/CONCOCTION/src/Evaluation/ExperimentalEvaluation/data/sard/cwe416_test\n",
      "/root/anaconda3/envs/Linevul/bin/python linevul_main.py --data_file '/CONCOCTION/src/Evaluation/ExperimentalEvaluation/data/sard/cwe416_test' --evaluate_during_training  --do_pre --model_name /CONCOCTION/src/Evaluation/ExperimentalEvaluation/lineVul/linevul/saved_modelss/cwe416.h5 >run.log  2>&1\n",
      "\n",
      "['acc' 'pre' 'recall' 'f1']\n",
      "[1. 1. 1. 1.]\n"
     ]
    },
    {
     "data": {
      "image/png": "[encoded data removed]",
      "text/plain": [
       "<Figure size 640x480 with 1 Axes>"
      ]
     },
     "metadata": {},
     "output_type": "display_data"
    },
    {
     "name": "stdout",
     "output_type": "stream",
     "text": [
      "method:vuldeepecker\n",
      "load_saved_model:/CONCOCTION/src/Evaluation/ExperimentalEvaluation/vuldeepker/saved_models/cwe416.h5\n",
      "dataDir:/CONCOCTION/src/Evaluation/ExperimentalEvaluation/data/sard/cwe416_test\n",
      "\n",
      "['acc' 'pre' 'recall' 'f1']\n",
      "[1. 1. 1. 1.]\n"
     ]
    },
    {
     "data": {
      "image/png": "[encoded data removed]",
      "text/plain": [
       "<Figure size 640x480 with 1 Axes>"
      ]
     },
     "metadata": {},
     "output_type": "display_data"
    },
    {
     "name": "stdout",
     "output_type": "stream",
     "text": [
      "method:tdsc\n",
      "load_saved_model:/CONCOCTION/src/Evaluation/ExperimentalEvaluation/TDSC/saved_models/cwe416.h5\n",
      "dataDir:/CONCOCTION/src/Evaluation/ExperimentalEvaluation/data/sard/cwe416_test\n",
      "/root/anaconda3/envs/vuldeepecker1/bin/python TDSC.py --data_path '/CONCOCTION/src/Evaluation/ExperimentalEvaluation/data/sard/cwe416_test' --mode pre --model_to_load /CONCOCTION/src/Evaluation/ExperimentalEvaluation/TDSC/saved_models/cwe416.h5 >run.log  2>&1\n",
      "\n",
      "['acc' 'pre' 'recall' 'f1']\n",
      "[1. 1. 1. 1.]\n"
     ]
    },
    {
     "data": {
      "image/png": "[encoded data removed]",
      "text/plain": [
       "<Figure size 640x480 with 1 Axes>"
      ]
     },
     "metadata": {},
     "output_type": "display_data"
    }
   ],
   "source": [
    "# Prepare the dataset and preprocess (use parameter to change CWE type and method,\n",
    "#                                     like FUN A( dataset = 'CWE-123', method = 'Vuldeepecker' ))\n",
    "%matplotlib inline\n",
    "from Evaluation.demo2.demo2 import *\n",
    "# Train and test.\n",
    "# EvaluationSard(\"CWE-416\",\"concoction\").run()\n",
    "# EvaluationSard(\"CWE-416\",\"Liger\").run()\n",
    "EvaluationSard(\"CWE-416\",\"LineVul\").run()\n",
    "EvaluationSard(\"CWE-416\",\"vuldeepecker\").run()\n",
    "EvaluationSard(\"CWE-416\",\"TDSC\").run()"
   ]
  },
  {
   "cell_type": "markdown",
   "metadata": {},
   "source": [
    "#### *Github Dataset*:\n"
   ]
  },
  {
   "cell_type": "code",
   "execution_count": 16,
   "metadata": {
    "ExecuteTime": {
     "end_time": "2023-05-08T13:43:09.758882900Z",
     "start_time": "2023-05-08T13:43:09.741861500Z"
    }
   },
   "outputs": [
    {
     "name": "stdout",
     "output_type": "stream",
     "text": [
      "method:vuldeepecker\n",
      "load_saved_model:/CONCOCTION/src/Evaluation/ExperimentalEvaluation/vuldeepker/saved_models/github.h5\n",
      "dataDir:/CONCOCTION/src/Evaluation/ExperimentalEvaluation/data/github_0.6_new/test\n",
      "\n",
      "['acc' 'pre' 'recall' 'f1']\n",
      "[1. 1. 1. 1.]\n"
     ]
    },
    {
     "data": {
      "image/png": "[encoded data removed]",
      "text/plain": [
       "<Figure size 640x480 with 1 Axes>"
      ]
     },
     "metadata": {},
     "output_type": "display_data"
    },
    {
     "name": "stdout",
     "output_type": "stream",
     "text": [
      "method:tdsc\n",
      "load_saved_model:/CONCOCTION/src/Evaluation/ExperimentalEvaluation/TDSC/saved_models/github.h5\n",
      "dataDir:/CONCOCTION/src/Evaluation/ExperimentalEvaluation/data/github_0.6_new/test\n",
      "/root/anaconda3/envs/vuldeepecker1/bin/python TDSC.py --data_path '/CONCOCTION/src/Evaluation/ExperimentalEvaluation/data/github_0.6_new/test' --mode pre --model_to_load /CONCOCTION/src/Evaluation/ExperimentalEvaluation/TDSC/saved_models/github.h5 >run.log  2>&1\n",
      "\n",
      "['acc' 'pre' 'recall' 'f1']\n",
      "[1. 1. 1. 1.]\n"
     ]
    },
    {
     "data": {
      "image/png": "[encoded data removed]",
      "text/plain": [
       "<Figure size 640x480 with 1 Axes>"
      ]
     },
     "metadata": {},
     "output_type": "display_data"
    },
    {
     "name": "stdout",
     "output_type": "stream",
     "text": [
      "method:concoction\n",
      "load_saved_model:/CONCOCTION/src/Evaluation/ExperimentalEvaluation/Concoction/saved_models/github.h5\n",
      "dataDir:/CONCOCTION/src/Evaluation/ExperimentalEvaluation/data/github_0.6_new/test\n",
      "/root/anaconda3/envs/pytorch1.7.1/bin/python evaluation_bug.py --path_to_data '/CONCOCTION/src/Evaluation/ExperimentalEvaluation/data/github_0.6_new/test' --mode test --model_to_load /CONCOCTION/src/Evaluation/ExperimentalEvaluation/Concoction/saved_models/github.h5 >run.log  2>&1\n",
      "\n",
      "['acc' 'pre' 'recall' 'f1']\n",
      "[0.86857143 0.89142859 0.85245901 0.87150836]\n"
     ]
    },
    {
     "data": {
      "image/png": "[encoded data removed]",
      "text/plain": [
       "<Figure size 640x480 with 1 Axes>"
      ]
     },
     "metadata": {},
     "output_type": "display_data"
    },
    {
     "name": "stdout",
     "output_type": "stream",
     "text": [
      "method:linevul\n",
      "load_saved_model:/CONCOCTION/src/Evaluation/ExperimentalEvaluation/lineVul/linevul/saved_modelss/0.727699530516432_123456_1.h5\n",
      "dataDir:/CONCOCTION/src/Evaluation/ExperimentalEvaluation/data/github_0.6_new/test\n",
      "/root/anaconda3/envs/Linevul/bin/python linevul_main.py --data_file '/CONCOCTION/src/Evaluation/ExperimentalEvaluation/data/github_0.6_new/test' --evaluate_during_training  --do_pre --model_name /CONCOCTION/src/Evaluation/ExperimentalEvaluation/lineVul/linevul/saved_modelss/0.727699530516432_123456_1.h5 >run.log  2>&1\n",
      "\n",
      "['acc' 'pre' 'recall' 'f1']\n",
      "[1. 1. 1. 1.]\n"
     ]
    },
    {
     "data": {
      "image/png": "[encoded data removed]",
      "text/plain": [
       "<Figure size 640x480 with 1 Axes>"
      ]
     },
     "metadata": {},
     "output_type": "display_data"
    }
   ],
   "source": [
    "from Evaluation.demo2.demo2 import *\n",
    "EvaluationGithub(\"Github\",\"vuldeepecker\").run()\n",
    "EvaluationGithub(\"Github\",\"TDSC\").run()\n",
    "EvaluationGithub(\"Github\",\"concoction\").run()\n",
    "EvaluationGithub(\"Github\",\"Liger\").run()\n",
    "EvaluationGithub(\"Github\",\"LineVul\").run()"
   ]
  },
  {
   "cell_type": "markdown",
   "metadata": {},
   "source": [
    "\n",
    "#### Full-scale evaluation data\n",
    "\n",
    "We now plot the diagrams using full-scale evaluation data (it would take too long to run the experiment lively). The results correspond to Figure 9 and 10 (Section 5.2) of the submitted manuscript."
   ]
  },
  {
   "cell_type": "code",
   "execution_count": null,
   "metadata": {
    "ExecuteTime": {
     "end_time": "2023-05-08T13:43:09.772886Z",
     "start_time": "2023-05-08T13:43:09.757882600Z"
    }
   },
   "outputs": [],
   "source": [
    "# Output Figure 9: Evaluation on standard vulnerability databases. Min-max bars show performance across vulnerability types.\n",
    "# Output Figure 10:  Evaluation on the CVE dataset Concoction gives the best performance across evaluation metrics."
   ]
  },
  {
   "cell_type": "markdown",
   "metadata": {},
   "source": [
    "### Case Study 3:  Evaluation on Opensource Projects (Section 5.3)\n",
    "\n",
    "We now compare to the baseline methods by applying them to the three open-source projects in Table 3 with a total of 35 CVEs reported by independent users.\n",
    "\n",
    "This demo corresponds to Figure 11 of the submitted manuscript.\n",
    "\n",
    "*approximate runtime = xx minutes for one benchmark*\n",
    "\n",
    "### Client RL Deployment Demo\n",
    "\n",
    "This demo shows how to apply the saved client RL to optimize a test program for Code Size Reduction. \n",
    "\n",
    "*approximate runtime ~ 15 minutes*\n",
    "\n",
    "#### Performance evaluation on benchmarks\n",
    "Benchmarks: Sqlite, Libtiff, Libpng.\n",
    "*approximate runtime ~ 20 minutes*"
   ]
  },
  {
   "cell_type": "code",
   "execution_count": null,
   "metadata": {
    "ExecuteTime": {
     "end_time": "2023-05-08T13:43:09.790890100Z",
     "start_time": "2023-05-08T13:43:09.773886200Z"
    }
   },
   "outputs": [],
   "source": [
    "# Load model and test benchmarks (Input benchmark and method like FUN A( project = 'Sqlite', method = 'Concoction')."
   ]
  },
  {
   "cell_type": "markdown",
   "metadata": {},
   "source": [
    "#### Full-scale evaluation data\n",
    "We now generate the table using full-scale evaluation data (it would take too long to run the experiment lively). The results correspond to Figure 11 (Section 5.3) of the submitted manuscript."
   ]
  },
  {
   "cell_type": "code",
   "execution_count": null,
   "metadata": {
    "ExecuteTime": {
     "end_time": "2023-05-08T13:43:09.804893200Z",
     "start_time": "2023-05-08T13:43:09.788889500Z"
    }
   },
   "outputs": [],
   "source": [
    "# Output Figure 11: The number of vulnerabilities identified Concoction and other methods for open-source projects in Table 3."
   ]
  },
  {
   "cell_type": "markdown",
   "metadata": {},
   "source": [
    "### Further Analysis (Alternative)\n",
    "\n",
    "####  DL model implementation choices.\n",
    "\n",
    "we evaluate several variants of Concoction on the CVE dataset.\n",
    "\n",
    "This demo corresponds to Figure 12 of the submitted manuscript.\n",
    "\n",
    "*approximate runtime = xx minutes for one benchmark*"
   ]
  },
  {
   "cell_type": "code",
   "execution_count": null,
   "metadata": {
    "ExecuteTime": {
     "end_time": "2023-05-08T13:43:09.822897400Z",
     "start_time": "2023-05-08T13:43:09.805893300Z"
    }
   },
   "outputs": [],
   "source": [
    "# Load model and test CVE benchmarks (Input method like FUN A( method = 'Static')."
   ]
  },
  {
   "cell_type": "markdown",
   "metadata": {},
   "source": [
    "#### Full-scale evaluation data\n",
    "We now generate the figure using full-scale evaluation data (it would take too long to run the experiment lively). The results correspond to Figure 12 (Section 5.4) of the submitted manuscript.\n"
   ]
  },
  {
   "cell_type": "code",
   "execution_count": null,
   "metadata": {
    "ExecuteTime": {
     "end_time": "2023-05-08T13:43:09.835900200Z",
     "start_time": "2023-05-08T13:43:09.819896400Z"
    }
   },
   "outputs": [],
   "source": [
    "# Output Figure 12:  Comparing implementation variants of Concoction on the CVE dataset."
   ]
  },
  {
   "cell_type": "code",
   "execution_count": null,
   "metadata": {},
   "outputs": [],
   "source": []
  },
  {
   "cell_type": "code",
   "execution_count": null,
   "metadata": {},
   "outputs": [],
   "source": []
  },
  {
   "cell_type": "code",
   "execution_count": null,
   "metadata": {},
   "outputs": [],
   "source": []
  }
 ],
 "metadata": {
  "kernelspec": {
   "display_name": "Python 3 (ipykernel)",
   "language": "python",
   "name": "python3"
  },
  "language_info": {
   "codemirror_mode": {
    "name": "ipython",
    "version": 3
   },
   "file_extension": ".py",
   "mimetype": "text/x-python",
   "name": "python",
   "nbconvert_exporter": "python",
   "pygments_lexer": "ipython3",
   "version": "3.9.13"
  }
 },
 "nbformat": 4,
 "nbformat_minor": 4
}
